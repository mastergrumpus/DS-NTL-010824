{
 "cells": [
  {
   "cell_type": "markdown",
   "id": "6daf668b",
   "metadata": {
    "slideshow": {
     "slide_type": "slide"
    }
   },
   "source": [
    "<div style=\"color:white;\n",
    "           display:fill;\n",
    "           border-radius:5px;\n",
    "           background-color:#5642C5;\n",
    "           font-size:200%;\n",
    "           font-family:Arial;letter-spacing:0.5px\">\n",
    "\n",
    "<p width = 20%, style=\"padding: 10px;\n",
    "              color:white;\">\n",
    "Model Tuning\n",
    "              \n",
    "</p>\n",
    "</div>\n",
    "\n",
    "DS-NTL-010824\n",
    "<p>Phase 4</p>\n",
    "<br>\n",
    "<br>\n",
    "\n",
    "<div align = \"right\">\n",
    "<img src=\"Images/flatiron-school-logo.png\" align = \"right\" width=\"200\"/>\n",
    "</div>\n",
    "    \n",
    "    "
   ]
  },
  {
   "cell_type": "code",
   "execution_count": 1,
   "id": "fa35b8bf",
   "metadata": {
    "ExecuteTime": {
     "end_time": "2021-10-28T04:05:08.822957Z",
     "start_time": "2021-10-28T04:05:08.819534Z"
    },
    "slideshow": {
     "slide_type": "slide"
    }
   },
   "outputs": [],
   "source": [
    "import numpy as np\n",
    "import pandas as pd\n",
    "from matplotlib import pyplot as plt\n",
    "import seaborn as sns\n",
    "from scipy import stats as stats\n",
    "\n",
    "from sklearn.linear_model import LogisticRegression\n",
    "from sklearn.neighbors import KNeighborsClassifier\n",
    "from sklearn.tree import DecisionTreeClassifier\n",
    "\n",
    "from sklearn.metrics import precision_score, recall_score, ConfusionMatrixDisplay #plot_confusion_matrix\n",
    "from sklearn.model_selection import train_test_split, GridSearchCV,\\\n",
    "cross_val_score, RandomizedSearchCV\n",
    "\n",
    "from sklearn.preprocessing import OneHotEncoder, StandardScaler, Normalizer\n",
    "from sklearn.impute import SimpleImputer\n",
    "\n",
    "from sklearn.compose import ColumnTransformer"
   ]
  },
  {
   "cell_type": "markdown",
   "id": "87eef037",
   "metadata": {
    "cell_style": "split",
    "slideshow": {
     "slide_type": "slide"
    }
   },
   "source": [
    "#### Hyperparameters\n",
    "- Free knobs of a model used to **control the training process**."
   ]
  },
  {
   "cell_type": "markdown",
   "id": "7b7d47d4",
   "metadata": {
    "cell_style": "split",
    "slideshow": {
     "slide_type": "fragment"
    }
   },
   "source": [
    "<img src = \"Images\\levers.jpg\" width = 350/><center> Tuning your model!! </center>"
   ]
  },
  {
   "cell_type": "markdown",
   "id": "c513e58d",
   "metadata": {
    "cell_style": "split",
    "slideshow": {
     "slide_type": "fragment"
    }
   },
   "source": [
    "**Hyperparameters concerning the structure of cost function and model**"
   ]
  },
  {
   "cell_type": "markdown",
   "id": "9a1bd45a",
   "metadata": {
    "cell_style": "split",
    "heading_collapsed": true,
    "hidden": true,
    "slideshow": {
     "slide_type": "slide"
    }
   },
   "source": [
    "#### Hyperparameters\n",
    "- Free levers of a model used to **control the training process**.\n",
    "- $\\lambda$: the regularization parameter for $|\\textbf{w}|^2$ penalty.\n"
   ]
  },
  {
   "cell_type": "markdown",
   "id": "2dc2ec31",
   "metadata": {
    "cell_style": "split",
    "hidden": true,
    "slideshow": {
     "slide_type": "fragment"
    }
   },
   "source": [
    "#### Parameters\n",
    "\n",
    "- **Found by training the model**\n",
    "- Weights ($\\textbf{w}$, etc.): \n",
    "    Logistic Regression, Linear Regression\n"
   ]
  },
  {
   "cell_type": "markdown",
   "id": "fd3a274a",
   "metadata": {
    "cell_style": "split",
    "hidden": true,
    "slideshow": {
     "slide_type": "slide"
    }
   },
   "source": [
    "#### Hyperparameters\n",
    "- depth of decision tree\n",
    "- gini impurity or entropy?"
   ]
  },
  {
   "cell_type": "markdown",
   "id": "4574d72f",
   "metadata": {
    "cell_style": "split",
    "slideshow": {
     "slide_type": "fragment"
    }
   },
   "source": [
    "#### Parameters\n",
    "\n",
    "- Locations in feature space where splits were made"
   ]
  },
  {
   "cell_type": "markdown",
   "id": "84513692",
   "metadata": {
    "slideshow": {
     "slide_type": "fragment"
    }
   },
   "source": [
    "**Hyperparameters concerning the optimization process**"
   ]
  },
  {
   "cell_type": "markdown",
   "id": "3247fcc1",
   "metadata": {
    "cell_style": "split",
    "slideshow": {
     "slide_type": "slide"
    }
   },
   "source": [
    "- Can help get to solutions faster\n",
    "- Get *better* convergence to cost function minimum"
   ]
  },
  {
   "cell_type": "markdown",
   "id": "814f1b23",
   "metadata": {
    "cell_style": "split",
    "slideshow": {
     "slide_type": "fragment"
    }
   },
   "source": [
    "**Solvers for Logistic regression**: variants of gradient descent.\n",
    "\n",
    "- lbfgs (variant of Newton method)\n",
    "    - accounts for concavity of cost function\n",
    "- sag (Stochastic Gradient Descent)\n",
    "    - fast convergence\n",
    "    - excellent for larger number of samples\n",
    "- liblinear (Coordinate Descent)\n",
    "    - better for larger number of features\n",
    "\n"
   ]
  },
  {
   "cell_type": "markdown",
   "id": "df8e81ec",
   "metadata": {
    "cell_style": "center",
    "hidden": true,
    "slideshow": {
     "slide_type": "slide"
    }
   },
   "source": [
    "Depending on the sort of problem and data:\n",
    "- experiment with different values of these hyperparameters\n",
    "- improve model performance."
   ]
  },
  {
   "cell_type": "markdown",
   "id": "e27b7947",
   "metadata": {
    "slideshow": {
     "slide_type": "slide"
    }
   },
   "source": [
    "Running through the entire process of train/test splitting and cross-validation yet again:"
   ]
  },
  {
   "cell_type": "markdown",
   "id": "f4b2a4b7",
   "metadata": {
    "slideshow": {
     "slide_type": "slide"
    }
   },
   "source": [
    "Load iris data"
   ]
  },
  {
   "cell_type": "code",
   "execution_count": 2,
   "id": "1b761f1a",
   "metadata": {
    "slideshow": {
     "slide_type": "fragment"
    }
   },
   "outputs": [
    {
     "data": {
      "text/html": [
       "<div>\n",
       "<style scoped>\n",
       "    .dataframe tbody tr th:only-of-type {\n",
       "        vertical-align: middle;\n",
       "    }\n",
       "\n",
       "    .dataframe tbody tr th {\n",
       "        vertical-align: top;\n",
       "    }\n",
       "\n",
       "    .dataframe thead th {\n",
       "        text-align: right;\n",
       "    }\n",
       "</style>\n",
       "<table border=\"1\" class=\"dataframe\">\n",
       "  <thead>\n",
       "    <tr style=\"text-align: right;\">\n",
       "      <th></th>\n",
       "      <th>SepalLengthCm</th>\n",
       "      <th>SepalWidthCm</th>\n",
       "      <th>PetalLengthCm</th>\n",
       "      <th>PetalWidthCm</th>\n",
       "      <th>Species</th>\n",
       "    </tr>\n",
       "  </thead>\n",
       "  <tbody>\n",
       "    <tr>\n",
       "      <th>0</th>\n",
       "      <td>5.1</td>\n",
       "      <td>3.5</td>\n",
       "      <td>1.4</td>\n",
       "      <td>0.2</td>\n",
       "      <td>Iris-setosa</td>\n",
       "    </tr>\n",
       "    <tr>\n",
       "      <th>1</th>\n",
       "      <td>4.9</td>\n",
       "      <td>3.0</td>\n",
       "      <td>1.4</td>\n",
       "      <td>0.2</td>\n",
       "      <td>Iris-setosa</td>\n",
       "    </tr>\n",
       "    <tr>\n",
       "      <th>2</th>\n",
       "      <td>4.7</td>\n",
       "      <td>3.2</td>\n",
       "      <td>1.3</td>\n",
       "      <td>0.2</td>\n",
       "      <td>Iris-setosa</td>\n",
       "    </tr>\n",
       "    <tr>\n",
       "      <th>3</th>\n",
       "      <td>4.6</td>\n",
       "      <td>3.1</td>\n",
       "      <td>1.5</td>\n",
       "      <td>0.2</td>\n",
       "      <td>Iris-setosa</td>\n",
       "    </tr>\n",
       "    <tr>\n",
       "      <th>4</th>\n",
       "      <td>5.0</td>\n",
       "      <td>3.6</td>\n",
       "      <td>1.4</td>\n",
       "      <td>0.2</td>\n",
       "      <td>Iris-setosa</td>\n",
       "    </tr>\n",
       "  </tbody>\n",
       "</table>\n",
       "</div>"
      ],
      "text/plain": [
       "   SepalLengthCm  SepalWidthCm  PetalLengthCm  PetalWidthCm      Species\n",
       "0            5.1           3.5            1.4           0.2  Iris-setosa\n",
       "1            4.9           3.0            1.4           0.2  Iris-setosa\n",
       "2            4.7           3.2            1.3           0.2  Iris-setosa\n",
       "3            4.6           3.1            1.5           0.2  Iris-setosa\n",
       "4            5.0           3.6            1.4           0.2  Iris-setosa"
      ]
     },
     "execution_count": 2,
     "metadata": {},
     "output_type": "execute_result"
    }
   ],
   "source": [
    "iris_df = pd.read_csv('Data/Iris.csv').drop(columns = ['Id'])\n",
    "iris_df.head()"
   ]
  },
  {
   "cell_type": "markdown",
   "id": "07730754",
   "metadata": {
    "slideshow": {
     "slide_type": "slide"
    }
   },
   "source": [
    "Label encode the target class"
   ]
  },
  {
   "cell_type": "code",
   "execution_count": 3,
   "id": "337a455a",
   "metadata": {
    "slideshow": {
     "slide_type": "fragment"
    }
   },
   "outputs": [
    {
     "data": {
      "text/html": [
       "<div>\n",
       "<style scoped>\n",
       "    .dataframe tbody tr th:only-of-type {\n",
       "        vertical-align: middle;\n",
       "    }\n",
       "\n",
       "    .dataframe tbody tr th {\n",
       "        vertical-align: top;\n",
       "    }\n",
       "\n",
       "    .dataframe thead th {\n",
       "        text-align: right;\n",
       "    }\n",
       "</style>\n",
       "<table border=\"1\" class=\"dataframe\">\n",
       "  <thead>\n",
       "    <tr style=\"text-align: right;\">\n",
       "      <th></th>\n",
       "      <th>SepalLengthCm</th>\n",
       "      <th>SepalWidthCm</th>\n",
       "      <th>PetalLengthCm</th>\n",
       "      <th>PetalWidthCm</th>\n",
       "      <th>Species</th>\n",
       "    </tr>\n",
       "  </thead>\n",
       "  <tbody>\n",
       "    <tr>\n",
       "      <th>0</th>\n",
       "      <td>5.1</td>\n",
       "      <td>3.5</td>\n",
       "      <td>1.4</td>\n",
       "      <td>0.2</td>\n",
       "      <td>0</td>\n",
       "    </tr>\n",
       "    <tr>\n",
       "      <th>1</th>\n",
       "      <td>4.9</td>\n",
       "      <td>3.0</td>\n",
       "      <td>1.4</td>\n",
       "      <td>0.2</td>\n",
       "      <td>0</td>\n",
       "    </tr>\n",
       "    <tr>\n",
       "      <th>2</th>\n",
       "      <td>4.7</td>\n",
       "      <td>3.2</td>\n",
       "      <td>1.3</td>\n",
       "      <td>0.2</td>\n",
       "      <td>0</td>\n",
       "    </tr>\n",
       "    <tr>\n",
       "      <th>3</th>\n",
       "      <td>4.6</td>\n",
       "      <td>3.1</td>\n",
       "      <td>1.5</td>\n",
       "      <td>0.2</td>\n",
       "      <td>0</td>\n",
       "    </tr>\n",
       "    <tr>\n",
       "      <th>4</th>\n",
       "      <td>5.0</td>\n",
       "      <td>3.6</td>\n",
       "      <td>1.4</td>\n",
       "      <td>0.2</td>\n",
       "      <td>0</td>\n",
       "    </tr>\n",
       "  </tbody>\n",
       "</table>\n",
       "</div>"
      ],
      "text/plain": [
       "   SepalLengthCm  SepalWidthCm  PetalLengthCm  PetalWidthCm  Species\n",
       "0            5.1           3.5            1.4           0.2        0\n",
       "1            4.9           3.0            1.4           0.2        0\n",
       "2            4.7           3.2            1.3           0.2        0\n",
       "3            4.6           3.1            1.5           0.2        0\n",
       "4            5.0           3.6            1.4           0.2        0"
      ]
     },
     "execution_count": 3,
     "metadata": {},
     "output_type": "execute_result"
    }
   ],
   "source": [
    "from sklearn.preprocessing import LabelEncoder\n",
    "target_transform = LabelEncoder()\n",
    "iris_df['Species'] = target_transform.fit_transform(iris_df['Species'])\n",
    "iris_df.head()"
   ]
  },
  {
   "cell_type": "markdown",
   "id": "2ac31a76",
   "metadata": {
    "slideshow": {
     "slide_type": "slide"
    }
   },
   "source": [
    "Select two of the features and the target. Features are not obviously separable.\n",
    "- Tuning will be important."
   ]
  },
  {
   "cell_type": "code",
   "execution_count": 4,
   "id": "0f8148f7",
   "metadata": {
    "cell_style": "split",
    "slideshow": {
     "slide_type": "fragment"
    }
   },
   "outputs": [],
   "source": [
    "col_list = ['SepalWidthCm', 'SepalLengthCm']\n",
    "X = iris_df[col_list]\n",
    "y = iris_df['Species']"
   ]
  },
  {
   "cell_type": "code",
   "execution_count": 5,
   "id": "897e29f1",
   "metadata": {
    "cell_style": "split",
    "slideshow": {
     "slide_type": "fragment"
    }
   },
   "outputs": [
    {
     "data": {
      "image/png": "[encoded data removed]",
      "text/plain": [
       "<Figure size 406.375x360 with 6 Axes>"
      ]
     },
     "metadata": {
      "needs_background": "light"
     },
     "output_type": "display_data"
    }
   ],
   "source": [
    "sns.pairplot(hue = 'Species', \n",
    "             vars = col_list,\n",
    "             data = iris_df)\n",
    "plt.show()"
   ]
  },
  {
   "cell_type": "markdown",
   "id": "a6f8d7b1",
   "metadata": {
    "slideshow": {
     "slide_type": "slide"
    }
   },
   "source": [
    "Now, before doing anything: Train/test split!"
   ]
  },
  {
   "cell_type": "code",
   "execution_count": 6,
   "id": "6fd60505",
   "metadata": {
    "cell_style": "center",
    "slideshow": {
     "slide_type": "fragment"
    }
   },
   "outputs": [],
   "source": [
    "# shuffle and split, stratify keeps target distribution same in train/test\n",
    "X_train, X_test, y_train, y_test = train_test_split(X, y, stratify = y, test_size = 0.15, random_state = 42)"
   ]
  },
  {
   "cell_type": "code",
   "execution_count": 7,
   "id": "434563a2",
   "metadata": {
    "slideshow": {
     "slide_type": "slide"
    }
   },
   "outputs": [],
   "source": [
    "from sklearn.model_selection import KFold\n",
    "from sklearn.preprocessing import StandardScaler\n",
    "from sklearn.neighbors import KNeighborsClassifier\n",
    "from sklearn.metrics import precision_score, recall_score, f1_score, accuracy_score, classification_report"
   ]
  },
  {
   "cell_type": "code",
   "execution_count": 8,
   "id": "bed132bb",
   "metadata": {
    "cell_style": "center",
    "slideshow": {
     "slide_type": "slide"
    }
   },
   "outputs": [],
   "source": [
    "def cross_validation(X_train, y_train, k, num_split = 10):\n",
    "    \n",
    "    X_train = X_train.values\n",
    "    y_train = y_train.values\n",
    "    \n",
    "    score_train_list = []\n",
    "    score_val_list = []\n",
    "    \n",
    "    for train_index, valid_index in KFold(n_splits = num_split).split(X_train):\n",
    "        # train and validation splitting \n",
    "        X_train_fold, X_val_fold = X_train[train_index], X_train[valid_index]\n",
    "        y_train_fold, y_val_fold = y_train[train_index], y_train[valid_index]\n",
    "\n",
    "        #create/fit the Standard scaler on the train fold\n",
    "        scaler = StandardScaler()\n",
    "        X_tf_sc = scaler.fit_transform(X_train_fold)\n",
    "        # transform validation fold\n",
    "        X_vld_sc = scaler.transform(X_val_fold)\n",
    "\n",
    "        # create/fit knearest neighbor\n",
    "        knn = KNeighborsClassifier(n_neighbors = k)\n",
    "        knn.fit(X_tf_sc, y_train_fold)\n",
    "        \n",
    "        # now how did we do?\n",
    "        accuracy_train = knn.score(X_tf_sc, y_train_fold)\n",
    "        accuracy_val = knn.score(X_vld_sc, y_val_fold)\n",
    "        score_val_list.append(accuracy_val)\n",
    "        score_train_list.append(accuracy_train)\n",
    "    \n",
    "    return {'k': k, 'train': np.mean(score_train_list), 'validation': np.mean(score_val_list)}"
   ]
  },
  {
   "cell_type": "markdown",
   "id": "906f5114",
   "metadata": {
    "slideshow": {
     "slide_type": "slide"
    }
   },
   "source": [
    "Now for tuning parameters need to loop:"
   ]
  },
  {
   "cell_type": "code",
   "execution_count": 9,
   "id": "07ed06d5",
   "metadata": {
    "slideshow": {
     "slide_type": "fragment"
    }
   },
   "outputs": [],
   "source": [
    "# empty dataframe\n",
    "crossval_df = pd.DataFrame(columns = ['k', 'train', 'validation'])\n",
    "\n",
    "# append results for each value of k\n",
    "for k in np.arange(1,100):\n",
    "\n",
    "                            \n",
    "    c = cross_validation(X_train, y_train, k, 5)\n",
    "    c_df = pd.DataFrame(c,index=[0])\n",
    "    crossval_df = pd.concat([crossval_df,c_df]) \n",
    "    \n",
    "\n",
    "# reset index\n",
    "crossval_df.reset_index(drop = True, inplace = True)\n"
   ]
  },
  {
   "cell_type": "code",
   "execution_count": 10,
   "id": "0fd2fd2a",
   "metadata": {
    "slideshow": {
     "slide_type": "slide"
    }
   },
   "outputs": [
    {
     "data": {
      "text/html": [
       "<div>\n",
       "<style scoped>\n",
       "    .dataframe tbody tr th:only-of-type {\n",
       "        vertical-align: middle;\n",
       "    }\n",
       "\n",
       "    .dataframe tbody tr th {\n",
       "        vertical-align: top;\n",
       "    }\n",
       "\n",
       "    .dataframe thead th {\n",
       "        text-align: right;\n",
       "    }\n",
       "</style>\n",
       "<table border=\"1\" class=\"dataframe\">\n",
       "  <thead>\n",
       "    <tr style=\"text-align: right;\">\n",
       "      <th></th>\n",
       "      <th>k</th>\n",
       "      <th>train</th>\n",
       "      <th>validation</th>\n",
       "    </tr>\n",
       "  </thead>\n",
       "  <tbody>\n",
       "    <tr>\n",
       "      <th>0</th>\n",
       "      <td>1</td>\n",
       "      <td>0.948825</td>\n",
       "      <td>0.717231</td>\n",
       "    </tr>\n",
       "    <tr>\n",
       "      <th>1</th>\n",
       "      <td>2</td>\n",
       "      <td>0.870103</td>\n",
       "      <td>0.764308</td>\n",
       "    </tr>\n",
       "    <tr>\n",
       "      <th>2</th>\n",
       "      <td>3</td>\n",
       "      <td>0.876024</td>\n",
       "      <td>0.756308</td>\n",
       "    </tr>\n",
       "    <tr>\n",
       "      <th>3</th>\n",
       "      <td>4</td>\n",
       "      <td>0.848437</td>\n",
       "      <td>0.779692</td>\n",
       "    </tr>\n",
       "    <tr>\n",
       "      <th>4</th>\n",
       "      <td>5</td>\n",
       "      <td>0.848437</td>\n",
       "      <td>0.779692</td>\n",
       "    </tr>\n",
       "  </tbody>\n",
       "</table>\n",
       "</div>"
      ],
      "text/plain": [
       "   k     train  validation\n",
       "0  1  0.948825    0.717231\n",
       "1  2  0.870103    0.764308\n",
       "2  3  0.876024    0.756308\n",
       "3  4  0.848437    0.779692\n",
       "4  5  0.848437    0.779692"
      ]
     },
     "execution_count": 10,
     "metadata": {},
     "output_type": "execute_result"
    }
   ],
   "source": [
    "crossval_df.head()"
   ]
  },
  {
   "cell_type": "markdown",
   "id": "5007ff57",
   "metadata": {
    "slideshow": {
     "slide_type": "slide"
    }
   },
   "source": [
    "Technically, we did this correctly. But..."
   ]
  },
  {
   "cell_type": "markdown",
   "id": "7e485ec0",
   "metadata": {
    "cell_style": "split",
    "slideshow": {
     "slide_type": "slide"
    }
   },
   "source": [
    "#### Whats the problem with this?\n",
    "\n",
    "- Need to write unecessary code. Hard to read.\n",
    "- Easy to mess up: track each data transformation carefully.\n",
    "- Changing/adding transformations: possibly a pain.\n",
    "- For loops for tuning, etc."
   ]
  },
  {
   "cell_type": "markdown",
   "id": "668ed755",
   "metadata": {
    "cell_style": "split",
    "slideshow": {
     "slide_type": "fragment"
    }
   },
   "source": [
    "#### The goal:\n",
    "\n",
    "- want to get best model in streamlined process.\n",
    "- want to be able to plug in and out different transformations easily and transparently. \n",
    "- try multiple transformations/models at once\n",
    "- want good reporting/ranking of different models."
   ]
  },
  {
   "cell_type": "markdown",
   "id": "1bd62d8b",
   "metadata": {
    "cell_style": "center",
    "slideshow": {
     "slide_type": "slide"
    }
   },
   "source": [
    "####  First part of solution: The pipeline \n",
    "\n",
    "- Transformer fitting and model fitting\n",
    "- Happen one right after the other.\n",
    "- **Ideal: unify into a single process.**"
   ]
  },
  {
   "cell_type": "markdown",
   "id": "dd254895",
   "metadata": {
    "slideshow": {
     "slide_type": "fragment"
    }
   },
   "source": [
    "Without the pipeline:\n",
    "- have to repeat fit and transformer/predicting for every transformer and model"
   ]
  },
  {
   "cell_type": "code",
   "execution_count": 11,
   "id": "289e099d",
   "metadata": {
    "ExecuteTime": {
     "end_time": "2021-10-28T03:33:54.664937Z",
     "start_time": "2021-10-28T03:33:54.657819Z"
    },
    "cell_style": "center",
    "hidden": true,
    "slideshow": {
     "slide_type": "slide"
    }
   },
   "outputs": [
    {
     "name": "stdout",
     "output_type": "stream",
     "text": [
      "[1 1 2 2 0 2 0 0 2 1 0 2 1 1 0 0 0 1 2 0 1 0 1]\n"
     ]
    }
   ],
   "source": [
    "# Define transformers (will adjust/massage the data)\n",
    "imputer = SimpleImputer(strategy=\"median\") # replaces missing values\n",
    "std_scaler = StandardScaler() # scales the data\n",
    "\n",
    "# Define the classifier (predictor) to train\n",
    "rf_clf = DecisionTreeClassifier(random_state=42)\n",
    "\n",
    "# Have the classifer (and full pipeline) learn/train/fit from the data\n",
    "X_train_filled = imputer.fit_transform(X_train)\n",
    "X_train_scaled = std_scaler.fit_transform(X_train_filled)\n",
    "rf_clf.fit(X_train_scaled, y_train)\n",
    "\n",
    "# Predict using the trained classifier (still need to do the transformations)\n",
    "X_test_filled = imputer.transform(X_test)\n",
    "X_test_scaled = std_scaler.transform(X_test_filled)\n",
    "y_pred = rf_clf.predict(X_test_scaled)\n",
    "print(y_pred)"
   ]
  },
  {
   "cell_type": "markdown",
   "id": "ecea6458",
   "metadata": {
    "slideshow": {
     "slide_type": "slide"
    }
   },
   "source": [
    "Instead let's use the Pipeline object"
   ]
  },
  {
   "cell_type": "code",
   "execution_count": 12,
   "id": "40dcec7e",
   "metadata": {
    "slideshow": {
     "slide_type": "fragment"
    }
   },
   "outputs": [],
   "source": [
    "from sklearn.pipeline import Pipeline\n",
    "\n",
    "# this will allow us to visualize the pipeline (may not be available in learn-env)\n",
    "from sklearn import set_config\n",
    "set_config(display= 'diagram')"
   ]
  },
  {
   "cell_type": "markdown",
   "id": "e2ec3953",
   "metadata": {
    "cell_style": "split",
    "slideshow": {
     "slide_type": "slide"
    }
   },
   "source": [
    "Pipeline() constructor:\n",
    "- takes in list of tuples (steps):\n",
    "- user label of estimator/transformer in pipeline (a string)\n",
    "- the transformer/estimator\n"
   ]
  },
  {
   "cell_type": "markdown",
   "id": "b85dc8c2",
   "metadata": {
    "cell_style": "split",
    "slideshow": {
     "slide_type": "fragment"
    }
   },
   "source": [
    "Pipeline() object is a new estimator:\n",
    "- does all steps in a defined order\n",
    "- transformers in the beginning\n",
    "- predictive model must be last step"
   ]
  },
  {
   "cell_type": "markdown",
   "id": "63673ac1",
   "metadata": {
    "slideshow": {
     "slide_type": "slide"
    }
   },
   "source": [
    "Combining into a unified estimator-transformer:\n",
    "- single .fit()\n",
    "- single .predict()\n",
    "\n",
    "**Does everything in one shot**"
   ]
  },
  {
   "cell_type": "markdown",
   "id": "f9a5e8c7",
   "metadata": {
    "slideshow": {
     "slide_type": "slide"
    }
   },
   "source": [
    "Let's check this out on fitting/predicting with simple train/test split:"
   ]
  },
  {
   "cell_type": "code",
   "execution_count": 13,
   "id": "cae12950",
   "metadata": {
    "slideshow": {
     "slide_type": "slide"
    }
   },
   "outputs": [
    {
     "name": "stdout",
     "output_type": "stream",
     "text": [
      "[1 1 2 2 0 2 0 0 2 1 0 2 1 1 0 0 0 1 2 0 1 0 1]\n"
     ]
    }
   ],
   "source": [
    "steps = [('imputer', SimpleImputer(strategy=\"median\")), ('std_scaler', StandardScaler()),\n",
    "        ('rf_clf', DecisionTreeClassifier(random_state=42))]\n",
    "\n",
    "pipeline = Pipeline(steps)\n",
    "\n",
    "\n",
    "# Train the pipeline (tranformations & predictor)\n",
    "pipeline.fit(X_train, y_train)\n",
    "\n",
    "# Predict using the pipeline (includes the transfomers & trained predictor)\n",
    "predicted = pipeline.predict(X_test)\n",
    "print(predicted)"
   ]
  },
  {
   "cell_type": "markdown",
   "id": "ab9e6671",
   "metadata": {
    "slideshow": {
     "slide_type": "slide"
    }
   },
   "source": [
    "Side by side (they do the same thing)"
   ]
  },
  {
   "cell_type": "code",
   "execution_count": 14,
   "id": "46e4ef4b",
   "metadata": {
    "cell_style": "center",
    "slideshow": {
     "slide_type": "fragment"
    }
   },
   "outputs": [
    {
     "name": "stdout",
     "output_type": "stream",
     "text": [
      "[1 1 2 2 0 2 0 0 2 1 0 2 1 1 0 0 0 1 2 0 1 0 1]\n"
     ]
    }
   ],
   "source": [
    "# Define transformers (will adjust/massage the data)\n",
    "imputer = SimpleImputer(strategy=\"median\") # replaces missing values\n",
    "std_scaler = StandardScaler() # scales the data\n",
    "\n",
    "# Define the classifier (predictor) to train\n",
    "rf_clf = DecisionTreeClassifier(random_state=42)\n",
    "\n",
    "# Have the classifer (and full pipeline) learn/train/fit from the data\n",
    "X_train_filled = imputer.fit_transform(X_train)\n",
    "X_train_scaled = std_scaler.fit_transform(X_train_filled)\n",
    "rf_clf.fit(X_train_scaled, y_train)\n",
    "\n",
    "# Predict using the trained classifier (still need to do the transformations)\n",
    "X_test_filled = imputer.transform(X_test)\n",
    "X_test_scaled = std_scaler.transform(X_test_filled)\n",
    "y_pred = rf_clf.predict(X_test_scaled)\n",
    "print(y_pred)"
   ]
  },
  {
   "cell_type": "code",
   "execution_count": 15,
   "id": "df89949f",
   "metadata": {
    "cell_style": "center",
    "slideshow": {
     "slide_type": "fragment"
    }
   },
   "outputs": [
    {
     "name": "stdout",
     "output_type": "stream",
     "text": [
      "[1 1 2 2 0 2 0 0 2 1 0 2 1 1 0 0 0 1 2 0 1 0 1]\n"
     ]
    }
   ],
   "source": [
    "steps = [('imputer', SimpleImputer(strategy=\"median\")), ('std_scaler', StandardScaler()),\n",
    "        ('rf_clf', DecisionTreeClassifier(random_state=42))]\n",
    "\n",
    "pipeline = Pipeline(steps)\n",
    "\n",
    "\n",
    "# Train the pipeline (tranformations & predictor)\n",
    "pipeline.fit(X_train, y_train)\n",
    "\n",
    "# Predict using the pipeline (includes the transfomers & trained predictor)\n",
    "predicted = pipeline.predict(X_test)\n",
    "print(predicted)"
   ]
  },
  {
   "cell_type": "markdown",
   "id": "41ea4e1a",
   "metadata": {
    "slideshow": {
     "slide_type": "slide"
    }
   },
   "source": [
    "Now lets do **manual** cross validation **with pipeline**"
   ]
  },
  {
   "cell_type": "markdown",
   "id": "18aab522",
   "metadata": {
    "slideshow": {
     "slide_type": "slide"
    }
   },
   "source": [
    "First advantage: can define the entire set of transformations outside cross-validation function:"
   ]
  },
  {
   "cell_type": "code",
   "execution_count": 16,
   "id": "a897371c",
   "metadata": {
    "cell_style": "center",
    "slideshow": {
     "slide_type": "fragment"
    }
   },
   "outputs": [
    {
     "data": {
      "text/html": [
       "<style>div.sk-top-container {color: black;background-color: white;}div.sk-toggleable {background-color: white;}label.sk-toggleable__label {cursor: pointer;display: block;width: 100%;margin-bottom: 0;padding: 0.2em 0.3em;box-sizing: border-box;text-align: center;}div.sk-toggleable__content {max-height: 0;max-width: 0;overflow: hidden;text-align: left;background-color: #f0f8ff;}div.sk-toggleable__content pre {margin: 0.2em;color: black;border-radius: 0.25em;background-color: #f0f8ff;}input.sk-toggleable__control:checked~div.sk-toggleable__content {max-height: 200px;max-width: 100%;overflow: auto;}div.sk-estimator input.sk-toggleable__control:checked~label.sk-toggleable__label {background-color: #d4ebff;}div.sk-label input.sk-toggleable__control:checked~label.sk-toggleable__label {background-color: #d4ebff;}input.sk-hidden--visually {border: 0;clip: rect(1px 1px 1px 1px);clip: rect(1px, 1px, 1px, 1px);height: 1px;margin: -1px;overflow: hidden;padding: 0;position: absolute;width: 1px;}div.sk-estimator {font-family: monospace;background-color: #f0f8ff;margin: 0.25em 0.25em;border: 1px dotted black;border-radius: 0.25em;box-sizing: border-box;}div.sk-estimator:hover {background-color: #d4ebff;}div.sk-parallel-item::after {content: \"\";width: 100%;border-bottom: 1px solid gray;flex-grow: 1;}div.sk-label:hover label.sk-toggleable__label {background-color: #d4ebff;}div.sk-serial::before {content: \"\";position: absolute;border-left: 1px solid gray;box-sizing: border-box;top: 2em;bottom: 0;left: 50%;}div.sk-serial {display: flex;flex-direction: column;align-items: center;background-color: white;}div.sk-item {z-index: 1;}div.sk-parallel {display: flex;align-items: stretch;justify-content: center;background-color: white;}div.sk-parallel-item {display: flex;flex-direction: column;position: relative;background-color: white;}div.sk-parallel-item:first-child::after {align-self: flex-end;width: 50%;}div.sk-parallel-item:last-child::after {align-self: flex-start;width: 50%;}div.sk-parallel-item:only-child::after {width: 0;}div.sk-dashed-wrapped {border: 1px dashed gray;margin: 0.2em;box-sizing: border-box;padding-bottom: 0.1em;background-color: white;position: relative;}div.sk-label label {font-family: monospace;font-weight: bold;background-color: white;display: inline-block;line-height: 1.2em;}div.sk-label-container {position: relative;z-index: 2;text-align: center;}div.sk-container {display: inline-block;position: relative;}</style><div class=\"sk-top-container\"><div class=\"sk-container\"><div class=\"sk-item sk-dashed-wrapped\"><div class=\"sk-label-container\"><div class=\"sk-label sk-toggleable\"><input class=\"sk-toggleable__control sk-hidden--visually\" id=\"7c000b26-f398-4312-8b19-a6a365c82374\" type=\"checkbox\" ><label class=\"sk-toggleable__label\" for=\"7c000b26-f398-4312-8b19-a6a365c82374\">Pipeline</label><div class=\"sk-toggleable__content\"><pre>Pipeline(steps=[('imputer', SimpleImputer(strategy='median')),\n",
       "                ('std_scaler', StandardScaler()),\n",
       "                ('rf_clf', DecisionTreeClassifier(random_state=42))])</pre></div></div></div><div class=\"sk-serial\"><div class=\"sk-item\"><div class=\"sk-estimator sk-toggleable\"><input class=\"sk-toggleable__control sk-hidden--visually\" id=\"d3fe743f-b520-4b33-bc49-6c84c8d676a1\" type=\"checkbox\" ><label class=\"sk-toggleable__label\" for=\"d3fe743f-b520-4b33-bc49-6c84c8d676a1\">SimpleImputer</label><div class=\"sk-toggleable__content\"><pre>SimpleImputer(strategy='median')</pre></div></div></div><div class=\"sk-item\"><div class=\"sk-estimator sk-toggleable\"><input class=\"sk-toggleable__control sk-hidden--visually\" id=\"2d0b6b13-7540-47fd-817d-db4e8730ecfa\" type=\"checkbox\" ><label class=\"sk-toggleable__label\" for=\"2d0b6b13-7540-47fd-817d-db4e8730ecfa\">StandardScaler</label><div class=\"sk-toggleable__content\"><pre>StandardScaler()</pre></div></div></div><div class=\"sk-item\"><div class=\"sk-estimator sk-toggleable\"><input class=\"sk-toggleable__control sk-hidden--visually\" id=\"cce90239-06e3-4bc3-a5e0-9ccf652c45c9\" type=\"checkbox\" ><label class=\"sk-toggleable__label\" for=\"cce90239-06e3-4bc3-a5e0-9ccf652c45c9\">DecisionTreeClassifier</label><div class=\"sk-toggleable__content\"><pre>DecisionTreeClassifier(random_state=42)</pre></div></div></div></div></div></div></div>"
      ],
      "text/plain": [
       "Pipeline(steps=[('imputer', SimpleImputer(strategy='median')),\n",
       "                ('std_scaler', StandardScaler()),\n",
       "                ('rf_clf', DecisionTreeClassifier(random_state=42))])"
      ]
     },
     "execution_count": 16,
     "metadata": {},
     "output_type": "execute_result"
    }
   ],
   "source": [
    "# Can define outside the cross validation\n",
    "steps = [('imputer', SimpleImputer(strategy=\"median\")), ('std_scaler', StandardScaler()),\n",
    "        ('rf_clf', DecisionTreeClassifier(random_state=42))]\n",
    "\n",
    "model_pipe = Pipeline(steps)\n",
    "model_pipe"
   ]
  },
  {
   "cell_type": "markdown",
   "id": "c3bb9209",
   "metadata": {
    "slideshow": {
     "slide_type": "slide"
    }
   },
   "source": [
    "Second advantage: no keeping track of multiple variables.\n",
    "- single .fit() and .predict()"
   ]
  },
  {
   "cell_type": "code",
   "execution_count": 17,
   "id": "f5ff6372",
   "metadata": {
    "cell_style": "center",
    "slideshow": {
     "slide_type": "slide"
    }
   },
   "outputs": [],
   "source": [
    "def cross_validation_pip(X_train, y_train, estimator, num_split = 10):\n",
    "    \n",
    "    X_train = X_train.values\n",
    "    y_train = y_train.values\n",
    "    \n",
    "    score_train_list = []\n",
    "    score_val_list = []\n",
    "    \n",
    "    for train_index, valid_index in KFold(n_splits = num_split).split(X_train):\n",
    "        \n",
    "        # train and validation splitting \n",
    "        X_train_fold, X_val_fold = X_train[train_index], X_train[valid_index]\n",
    "        y_train_fold, y_val_fold = y_train[train_index], y_train[valid_index]\n",
    "\n",
    "        estimator.fit(X_train_fold, y_train_fold)\n",
    "        \n",
    "        # now how did we do?\n",
    "        accuracy_train = estimator.score(X_train_fold, y_train_fold)\n",
    "        accuracy_val = estimator.score(X_val_fold, y_val_fold)\n",
    "        score_val_list.append(accuracy_val)\n",
    "        score_train_list.append(accuracy_train)\n",
    "    \n",
    "    return {'train': np.mean(score_train_list), 'validation': np.mean(score_val_list)}"
   ]
  },
  {
   "cell_type": "code",
   "execution_count": 18,
   "id": "008845ed",
   "metadata": {
    "slideshow": {
     "slide_type": "slide"
    }
   },
   "outputs": [
    {
     "data": {
      "text/plain": [
       "{'train': 0.943119755911518, 'validation': 0.708974358974359}"
      ]
     },
     "execution_count": 18,
     "metadata": {},
     "output_type": "execute_result"
    }
   ],
   "source": [
    "cross_validation_pip(X_train, y_train, pipeline)"
   ]
  },
  {
   "cell_type": "markdown",
   "id": "22b40c7a",
   "metadata": {
    "slideshow": {
     "slide_type": "slide"
    }
   },
   "source": [
    "Compare manual cross-validation **without** pipeline:"
   ]
  },
  {
   "cell_type": "code",
   "execution_count": 19,
   "id": "7888b394",
   "metadata": {
    "slideshow": {
     "slide_type": "slide"
    }
   },
   "outputs": [],
   "source": [
    "def cross_validation(X_train, y_train, estimator, num_split = 10):\n",
    "    \n",
    "    X_train = X_train.values\n",
    "    y_train = y_train.values\n",
    "    \n",
    "    score_train_list = []\n",
    "    score_val_list = []\n",
    "    \n",
    "    for train_index, valid_index in KFold(n_splits = num_split).split(X_train):\n",
    "\n",
    "\n",
    "        # train and validation splitting \n",
    "        X_train_fold, X_val_fold = X_train[train_index], X_train[valid_index]\n",
    "        y_train_fold, y_val_fold = y_train[train_index], y_train[valid_index]\n",
    "        \n",
    "        # impute NaNs with medians\n",
    "        \n",
    "        simple_imp = SimpleImputer(strategy=\"median\")\n",
    "        X_tf_imp = simple_imp.fit_transform(X_train_fold)\n",
    "        X_vld_imp = simple_imp.transform(X_val_fold)\n",
    "\n",
    "        #create/fit the Standard scaler on the train fold\n",
    "        scaler = StandardScaler()\n",
    "        X_tf_sc = scaler.fit_transform(X_tf_imp)\n",
    "        \n",
    "        # transform validation fold\n",
    "        X_vld_sc = scaler.transform(X_vld_imp)\n",
    "\n",
    "        estimator.fit(X_tf_sc, y_train_fold)\n",
    "        \n",
    "        # now how did we do?\n",
    "        accuracy_train = estimator.score(X_tf_sc, y_train_fold)\n",
    "        accuracy_val = estimator.score(X_vld_sc, y_val_fold)\n",
    "        score_val_list.append(accuracy_val)\n",
    "        score_train_list.append(accuracy_train)\n",
    "    \n",
    "    return {'train': np.mean(score_train_list), 'validation': np.mean(score_val_list)}"
   ]
  },
  {
   "cell_type": "code",
   "execution_count": 20,
   "id": "e433e80e",
   "metadata": {
    "slideshow": {
     "slide_type": "slide"
    }
   },
   "outputs": [
    {
     "data": {
      "text/plain": [
       "{'train': 0.943119755911518, 'validation': 0.708974358974359}"
      ]
     },
     "execution_count": 20,
     "metadata": {},
     "output_type": "execute_result"
    }
   ],
   "source": [
    "dec_tree = DecisionTreeClassifier(random_state=42)\n",
    "cross_validation(X_train, y_train, dec_tree)"
   ]
  },
  {
   "cell_type": "markdown",
   "id": "65003f06",
   "metadata": {
    "cell_style": "split",
    "slideshow": {
     "slide_type": "slide"
    }
   },
   "source": [
    "Same result as pipeline but:\n",
    "- Much less customizable/plug and play\n",
    "- Have to be careful and keep track of variables.\n",
    "- Changing/adding steps requires changing code **carefully** in function\n",
    "- Track changes and follow order of transformations:\n",
    "    - train set\n",
    "    - test set"
   ]
  },
  {
   "cell_type": "markdown",
   "id": "98aafee1",
   "metadata": {
    "cell_style": "split",
    "slideshow": {
     "slide_type": "fragment"
    }
   },
   "source": [
    "<img src = \"Images/pipeline_vs_manual.png\" width = 600  /> <center>Pipeline: customizable box. <i>Takes care of the details.</i></center>"
   ]
  },
  {
   "cell_type": "markdown",
   "id": "2fe41b1c",
   "metadata": {
    "heading_collapsed": true,
    "hidden": true,
    "slideshow": {
     "slide_type": "slide"
    }
   },
   "source": [
    "#### Swapping in Different Models & Transformers"
   ]
  },
  {
   "cell_type": "markdown",
   "id": "2455b8ad",
   "metadata": {
    "slideshow": {
     "slide_type": "slide"
    }
   },
   "source": [
    "Pipeline object has the steps as an attribute:\n",
    "- Python list\n",
    "- can modify pipeline progression by modifying attribute."
   ]
  },
  {
   "cell_type": "code",
   "execution_count": 21,
   "id": "71ff1c3b",
   "metadata": {
    "cell_style": "center",
    "slideshow": {
     "slide_type": "slide"
    }
   },
   "outputs": [
    {
     "data": {
      "text/plain": [
       "[('imputer', SimpleImputer(strategy='median')),\n",
       " ('std_scaler', StandardScaler()),\n",
       " ('rf_clf', DecisionTreeClassifier(random_state=42))]"
      ]
     },
     "execution_count": 21,
     "metadata": {},
     "output_type": "execute_result"
    }
   ],
   "source": [
    "model_pipe.steps"
   ]
  },
  {
   "cell_type": "markdown",
   "id": "2aff8d87",
   "metadata": {
    "cell_style": "center",
    "slideshow": {
     "slide_type": "fragment"
    }
   },
   "source": [
    "Change model to KNN:"
   ]
  },
  {
   "cell_type": "code",
   "execution_count": 22,
   "id": "249920a2",
   "metadata": {
    "cell_style": "split",
    "slideshow": {
     "slide_type": "fragment"
    }
   },
   "outputs": [],
   "source": [
    "# pop the decision tree\n",
    "model_pipe.steps.pop(-1)\n",
    "# insert knn\n",
    "model_pipe.steps.append(\n",
    "['knn', KNeighborsClassifier()])"
   ]
  },
  {
   "cell_type": "code",
   "execution_count": 23,
   "id": "b5ed5dd8",
   "metadata": {
    "cell_style": "split",
    "scrolled": true,
    "slideshow": {
     "slide_type": "fragment"
    }
   },
   "outputs": [
    {
     "data": {
      "text/html": [
       "<style>div.sk-top-container {color: black;background-color: white;}div.sk-toggleable {background-color: white;}label.sk-toggleable__label {cursor: pointer;display: block;width: 100%;margin-bottom: 0;padding: 0.2em 0.3em;box-sizing: border-box;text-align: center;}div.sk-toggleable__content {max-height: 0;max-width: 0;overflow: hidden;text-align: left;background-color: #f0f8ff;}div.sk-toggleable__content pre {margin: 0.2em;color: black;border-radius: 0.25em;background-color: #f0f8ff;}input.sk-toggleable__control:checked~div.sk-toggleable__content {max-height: 200px;max-width: 100%;overflow: auto;}div.sk-estimator input.sk-toggleable__control:checked~label.sk-toggleable__label {background-color: #d4ebff;}div.sk-label input.sk-toggleable__control:checked~label.sk-toggleable__label {background-color: #d4ebff;}input.sk-hidden--visually {border: 0;clip: rect(1px 1px 1px 1px);clip: rect(1px, 1px, 1px, 1px);height: 1px;margin: -1px;overflow: hidden;padding: 0;position: absolute;width: 1px;}div.sk-estimator {font-family: monospace;background-color: #f0f8ff;margin: 0.25em 0.25em;border: 1px dotted black;border-radius: 0.25em;box-sizing: border-box;}div.sk-estimator:hover {background-color: #d4ebff;}div.sk-parallel-item::after {content: \"\";width: 100%;border-bottom: 1px solid gray;flex-grow: 1;}div.sk-label:hover label.sk-toggleable__label {background-color: #d4ebff;}div.sk-serial::before {content: \"\";position: absolute;border-left: 1px solid gray;box-sizing: border-box;top: 2em;bottom: 0;left: 50%;}div.sk-serial {display: flex;flex-direction: column;align-items: center;background-color: white;}div.sk-item {z-index: 1;}div.sk-parallel {display: flex;align-items: stretch;justify-content: center;background-color: white;}div.sk-parallel-item {display: flex;flex-direction: column;position: relative;background-color: white;}div.sk-parallel-item:first-child::after {align-self: flex-end;width: 50%;}div.sk-parallel-item:last-child::after {align-self: flex-start;width: 50%;}div.sk-parallel-item:only-child::after {width: 0;}div.sk-dashed-wrapped {border: 1px dashed gray;margin: 0.2em;box-sizing: border-box;padding-bottom: 0.1em;background-color: white;position: relative;}div.sk-label label {font-family: monospace;font-weight: bold;background-color: white;display: inline-block;line-height: 1.2em;}div.sk-label-container {position: relative;z-index: 2;text-align: center;}div.sk-container {display: inline-block;position: relative;}</style><div class=\"sk-top-container\"><div class=\"sk-container\"><div class=\"sk-item sk-dashed-wrapped\"><div class=\"sk-label-container\"><div class=\"sk-label sk-toggleable\"><input class=\"sk-toggleable__control sk-hidden--visually\" id=\"662efb48-eaef-4c6e-a930-e604de4615d6\" type=\"checkbox\" ><label class=\"sk-toggleable__label\" for=\"662efb48-eaef-4c6e-a930-e604de4615d6\">Pipeline</label><div class=\"sk-toggleable__content\"><pre>Pipeline(steps=[('imputer', SimpleImputer(strategy='median')),\n",
       "                ('std_scaler', StandardScaler()),\n",
       "                ['knn', KNeighborsClassifier()]])</pre></div></div></div><div class=\"sk-serial\"><div class=\"sk-item\"><div class=\"sk-estimator sk-toggleable\"><input class=\"sk-toggleable__control sk-hidden--visually\" id=\"7978ddb6-9876-42e5-86d3-1daa3af5a5ab\" type=\"checkbox\" ><label class=\"sk-toggleable__label\" for=\"7978ddb6-9876-42e5-86d3-1daa3af5a5ab\">SimpleImputer</label><div class=\"sk-toggleable__content\"><pre>SimpleImputer(strategy='median')</pre></div></div></div><div class=\"sk-item\"><div class=\"sk-estimator sk-toggleable\"><input class=\"sk-toggleable__control sk-hidden--visually\" id=\"23aa88e9-4a30-435d-b6c0-e197f59aa9db\" type=\"checkbox\" ><label class=\"sk-toggleable__label\" for=\"23aa88e9-4a30-435d-b6c0-e197f59aa9db\">StandardScaler</label><div class=\"sk-toggleable__content\"><pre>StandardScaler()</pre></div></div></div><div class=\"sk-item\"><div class=\"sk-estimator sk-toggleable\"><input class=\"sk-toggleable__control sk-hidden--visually\" id=\"03a90439-6f41-4f81-ae54-03fd71d63904\" type=\"checkbox\" ><label class=\"sk-toggleable__label\" for=\"03a90439-6f41-4f81-ae54-03fd71d63904\">KNeighborsClassifier</label><div class=\"sk-toggleable__content\"><pre>KNeighborsClassifier()</pre></div></div></div></div></div></div></div>"
      ],
      "text/plain": [
       "Pipeline(steps=[('imputer', SimpleImputer(strategy='median')),\n",
       "                ('std_scaler', StandardScaler()),\n",
       "                ['knn', KNeighborsClassifier()]])"
      ]
     },
     "execution_count": 23,
     "metadata": {},
     "output_type": "execute_result"
    }
   ],
   "source": [
    "model_pipe"
   ]
  },
  {
   "cell_type": "markdown",
   "id": "9ceb55a7",
   "metadata": {
    "cell_style": "center",
    "slideshow": {
     "slide_type": "slide"
    }
   },
   "source": [
    "Can change transformers in the middle:"
   ]
  },
  {
   "cell_type": "code",
   "execution_count": 24,
   "id": "4c0b34ed",
   "metadata": {
    "cell_style": "split",
    "slideshow": {
     "slide_type": "fragment"
    }
   },
   "outputs": [
    {
     "data": {
      "text/html": [
       "<style>div.sk-top-container {color: black;background-color: white;}div.sk-toggleable {background-color: white;}label.sk-toggleable__label {cursor: pointer;display: block;width: 100%;margin-bottom: 0;padding: 0.2em 0.3em;box-sizing: border-box;text-align: center;}div.sk-toggleable__content {max-height: 0;max-width: 0;overflow: hidden;text-align: left;background-color: #f0f8ff;}div.sk-toggleable__content pre {margin: 0.2em;color: black;border-radius: 0.25em;background-color: #f0f8ff;}input.sk-toggleable__control:checked~div.sk-toggleable__content {max-height: 200px;max-width: 100%;overflow: auto;}div.sk-estimator input.sk-toggleable__control:checked~label.sk-toggleable__label {background-color: #d4ebff;}div.sk-label input.sk-toggleable__control:checked~label.sk-toggleable__label {background-color: #d4ebff;}input.sk-hidden--visually {border: 0;clip: rect(1px 1px 1px 1px);clip: rect(1px, 1px, 1px, 1px);height: 1px;margin: -1px;overflow: hidden;padding: 0;position: absolute;width: 1px;}div.sk-estimator {font-family: monospace;background-color: #f0f8ff;margin: 0.25em 0.25em;border: 1px dotted black;border-radius: 0.25em;box-sizing: border-box;}div.sk-estimator:hover {background-color: #d4ebff;}div.sk-parallel-item::after {content: \"\";width: 100%;border-bottom: 1px solid gray;flex-grow: 1;}div.sk-label:hover label.sk-toggleable__label {background-color: #d4ebff;}div.sk-serial::before {content: \"\";position: absolute;border-left: 1px solid gray;box-sizing: border-box;top: 2em;bottom: 0;left: 50%;}div.sk-serial {display: flex;flex-direction: column;align-items: center;background-color: white;}div.sk-item {z-index: 1;}div.sk-parallel {display: flex;align-items: stretch;justify-content: center;background-color: white;}div.sk-parallel-item {display: flex;flex-direction: column;position: relative;background-color: white;}div.sk-parallel-item:first-child::after {align-self: flex-end;width: 50%;}div.sk-parallel-item:last-child::after {align-self: flex-start;width: 50%;}div.sk-parallel-item:only-child::after {width: 0;}div.sk-dashed-wrapped {border: 1px dashed gray;margin: 0.2em;box-sizing: border-box;padding-bottom: 0.1em;background-color: white;position: relative;}div.sk-label label {font-family: monospace;font-weight: bold;background-color: white;display: inline-block;line-height: 1.2em;}div.sk-label-container {position: relative;z-index: 2;text-align: center;}div.sk-container {display: inline-block;position: relative;}</style><div class=\"sk-top-container\"><div class=\"sk-container\"><div class=\"sk-item sk-dashed-wrapped\"><div class=\"sk-label-container\"><div class=\"sk-label sk-toggleable\"><input class=\"sk-toggleable__control sk-hidden--visually\" id=\"3b83c2be-bd25-461a-80b2-24efb392662d\" type=\"checkbox\" ><label class=\"sk-toggleable__label\" for=\"3b83c2be-bd25-461a-80b2-24efb392662d\">Pipeline</label><div class=\"sk-toggleable__content\"><pre>Pipeline(steps=[('imputer', SimpleImputer(strategy='median')),\n",
       "                ('norm', Normalizer()), ['knn', KNeighborsClassifier()]])</pre></div></div></div><div class=\"sk-serial\"><div class=\"sk-item\"><div class=\"sk-estimator sk-toggleable\"><input class=\"sk-toggleable__control sk-hidden--visually\" id=\"8fe40cb9-26d8-4d8b-a600-abcaf5b7a88b\" type=\"checkbox\" ><label class=\"sk-toggleable__label\" for=\"8fe40cb9-26d8-4d8b-a600-abcaf5b7a88b\">SimpleImputer</label><div class=\"sk-toggleable__content\"><pre>SimpleImputer(strategy='median')</pre></div></div></div><div class=\"sk-item\"><div class=\"sk-estimator sk-toggleable\"><input class=\"sk-toggleable__control sk-hidden--visually\" id=\"2316e850-736c-4b18-87fc-17de8d77f164\" type=\"checkbox\" ><label class=\"sk-toggleable__label\" for=\"2316e850-736c-4b18-87fc-17de8d77f164\">Normalizer</label><div class=\"sk-toggleable__content\"><pre>Normalizer()</pre></div></div></div><div class=\"sk-item\"><div class=\"sk-estimator sk-toggleable\"><input class=\"sk-toggleable__control sk-hidden--visually\" id=\"8ef5c645-6911-41b3-a08f-682fb9c845c8\" type=\"checkbox\" ><label class=\"sk-toggleable__label\" for=\"8ef5c645-6911-41b3-a08f-682fb9c845c8\">KNeighborsClassifier</label><div class=\"sk-toggleable__content\"><pre>KNeighborsClassifier()</pre></div></div></div></div></div></div></div>"
      ],
      "text/plain": [
       "Pipeline(steps=[('imputer', SimpleImputer(strategy='median')),\n",
       "                ('norm', Normalizer()), ['knn', KNeighborsClassifier()]])"
      ]
     },
     "execution_count": 24,
     "metadata": {},
     "output_type": "execute_result"
    }
   ],
   "source": [
    "model_pipe.steps[1] = ('norm', Normalizer())\n",
    "model_pipe"
   ]
  },
  {
   "cell_type": "markdown",
   "id": "5a4898ce",
   "metadata": {
    "slideshow": {
     "slide_type": "slide"
    }
   },
   "source": [
    "#### Pipelines\n",
    "- Easily plug/play different transformers and models into our workflow"
   ]
  },
  {
   "cell_type": "markdown",
   "id": "4dc71eaf",
   "metadata": {
    "slideshow": {
     "slide_type": "slide"
    }
   },
   "source": [
    "#### Pipelines clearly awesome, but:"
   ]
  },
  {
   "cell_type": "markdown",
   "id": "dced810f",
   "metadata": {
    "slideshow": {
     "slide_type": "fragment"
    }
   },
   "source": [
    "Transformer/model pipeline hyperparameter tuning with cross-validation still pretty manual:\n",
    "\n",
    "Want:\n",
    "- Efficient hyperparameter tuning with minimal code\n",
    "- Leakage prevention\n",
    "- Automatic best model selection and reporting on the CV for each pipeline tried. \n"
   ]
  },
  {
   "cell_type": "markdown",
   "id": "c9a373c2",
   "metadata": {
    "slideshow": {
     "slide_type": "slide"
    }
   },
   "source": [
    "#### The  Grid Search CV"
   ]
  },
  {
   "cell_type": "markdown",
   "id": "5f795b1e",
   "metadata": {
    "cell_style": "split",
    "hidden": true,
    "slideshow": {
     "slide_type": "fragment"
    }
   },
   "source": [
    "Scikit-Learn has a [`GridSearchCV`](https://scikit-learn.org/stable/modules/generated/sklearn.model_selection.GridSearchCV.html) class whose `fit()` method:\n",
    "\n",
    "- takes in a grid of hyperparameters\n",
    "- loops through all of them **in order**\n",
    "- runs cross-validation properly scoring by chosen metric\n"
   ]
  },
  {
   "cell_type": "markdown",
   "id": "1a87aa51",
   "metadata": {
    "cell_style": "split",
    "slideshow": {
     "slide_type": "fragment"
    }
   },
   "source": [
    "- Returns all the models fitted\n",
    "- Can easily access best model and its score"
   ]
  },
  {
   "cell_type": "markdown",
   "id": "06e75043",
   "metadata": {
    "cell_style": "split",
    "slideshow": {
     "slide_type": "fragment"
    }
   },
   "source": [
    "<center><img src = \"Images/hyperparameter_tuning_cv_grid.webp\" width = 400/></center>"
   ]
  },
  {
   "cell_type": "markdown",
   "id": "d3ba40b9",
   "metadata": {
    "heading_collapsed": true,
    "hidden": true,
    "slideshow": {
     "slide_type": "slide"
    }
   },
   "source": [
    "#### GridSearchCV"
   ]
  },
  {
   "cell_type": "code",
   "execution_count": 25,
   "id": "5b5ec9f4",
   "metadata": {
    "cell_style": "center",
    "slideshow": {
     "slide_type": "fragment"
    }
   },
   "outputs": [],
   "source": [
    "# let's define a new pipeline object \n",
    "\n",
    "steps = [('imputer', SimpleImputer(strategy=\"median\")), ('std_scaler', StandardScaler()),\n",
    "        ('knn', KNeighborsClassifier())]\n",
    "\n",
    "model_pipe = Pipeline(steps)"
   ]
  },
  {
   "cell_type": "markdown",
   "id": "4b872502",
   "metadata": {
    "cell_style": "split",
    "slideshow": {
     "slide_type": "fragment"
    }
   },
   "source": [
    "CV takes in a grid dictionary:\n",
    "- with pipeline: key must follow a specific format\n",
    "- \"pipelinename__hyperparameter\""
   ]
  },
  {
   "cell_type": "markdown",
   "id": "0c9a389b",
   "metadata": {
    "cell_style": "split",
    "slideshow": {
     "slide_type": "fragment"
    }
   },
   "source": [
    "With pipeline:\n",
    "- Can change hyperparameters of model\n",
    "- **Also** can change hyperparameters of transformers."
   ]
  },
  {
   "cell_type": "code",
   "execution_count": 26,
   "id": "e5d5f175",
   "metadata": {
    "ExecuteTime": {
     "end_time": "2021-10-28T03:33:35.802959Z",
     "start_time": "2021-10-28T03:33:35.800647Z"
    },
    "cell_style": "center",
    "hidden": true,
    "slideshow": {
     "slide_type": "slide"
    }
   },
   "outputs": [],
   "source": [
    "\n",
    "pipe_grid = {'imputer__strategy': [\"mean\", \"median\"],\n",
    "             'knn__n_neighbors': [3, 5, 7, 9, 11, 13, 15, 18],\n",
    "             'knn__p': [1, 2, 3, 4]}\n",
    "\n",
    "# note: default scoring is accuracy\n",
    "gs_pipe = GridSearchCV(estimator=model_pipe, \n",
    "                       param_grid=pipe_grid)\n"
   ]
  },
  {
   "cell_type": "code",
   "execution_count": 27,
   "id": "f312fddb",
   "metadata": {
    "ExecuteTime": {
     "end_time": "2021-10-28T03:33:38.433413Z",
     "start_time": "2021-10-28T03:33:38.076112Z"
    },
    "hidden": true,
    "slideshow": {
     "slide_type": "slide"
    }
   },
   "outputs": [],
   "source": [
    "gs_pipe.fit(X_train, y_train);"
   ]
  },
  {
   "cell_type": "code",
   "execution_count": 28,
   "id": "37acf96b",
   "metadata": {
    "ExecuteTime": {
     "end_time": "2021-10-28T03:33:38.438408Z",
     "start_time": "2021-10-28T03:33:38.435309Z"
    },
    "cell_style": "center",
    "hidden": true,
    "slideshow": {
     "slide_type": "slide"
    }
   },
   "outputs": [
    {
     "data": {
      "text/plain": [
       "{'imputer__strategy': 'mean', 'knn__n_neighbors': 18, 'knn__p': 1}"
      ]
     },
     "execution_count": 28,
     "metadata": {},
     "output_type": "execute_result"
    }
   ],
   "source": [
    "gs_pipe.best_params_"
   ]
  },
  {
   "cell_type": "code",
   "execution_count": 29,
   "id": "34bad70c",
   "metadata": {
    "ExecuteTime": {
     "end_time": "2021-10-28T03:33:38.739396Z",
     "start_time": "2021-10-28T03:33:38.736044Z"
    },
    "cell_style": "center",
    "hidden": true,
    "slideshow": {
     "slide_type": "fragment"
    }
   },
   "outputs": [
    {
     "data": {
      "text/plain": [
       "0.811076923076923"
      ]
     },
     "execution_count": 29,
     "metadata": {},
     "output_type": "execute_result"
    }
   ],
   "source": [
    "gs_pipe.best_score_"
   ]
  },
  {
   "cell_type": "markdown",
   "id": "c22aafee",
   "metadata": {
    "slideshow": {
     "slide_type": "slide"
    }
   },
   "source": [
    "Get the best estimator"
   ]
  },
  {
   "cell_type": "code",
   "execution_count": 30,
   "id": "be8f0fba",
   "metadata": {
    "cell_style": "center",
    "slideshow": {
     "slide_type": "fragment"
    }
   },
   "outputs": [
    {
     "data": {
      "text/html": [
       "<style>div.sk-top-container {color: black;background-color: white;}div.sk-toggleable {background-color: white;}label.sk-toggleable__label {cursor: pointer;display: block;width: 100%;margin-bottom: 0;padding: 0.2em 0.3em;box-sizing: border-box;text-align: center;}div.sk-toggleable__content {max-height: 0;max-width: 0;overflow: hidden;text-align: left;background-color: #f0f8ff;}div.sk-toggleable__content pre {margin: 0.2em;color: black;border-radius: 0.25em;background-color: #f0f8ff;}input.sk-toggleable__control:checked~div.sk-toggleable__content {max-height: 200px;max-width: 100%;overflow: auto;}div.sk-estimator input.sk-toggleable__control:checked~label.sk-toggleable__label {background-color: #d4ebff;}div.sk-label input.sk-toggleable__control:checked~label.sk-toggleable__label {background-color: #d4ebff;}input.sk-hidden--visually {border: 0;clip: rect(1px 1px 1px 1px);clip: rect(1px, 1px, 1px, 1px);height: 1px;margin: -1px;overflow: hidden;padding: 0;position: absolute;width: 1px;}div.sk-estimator {font-family: monospace;background-color: #f0f8ff;margin: 0.25em 0.25em;border: 1px dotted black;border-radius: 0.25em;box-sizing: border-box;}div.sk-estimator:hover {background-color: #d4ebff;}div.sk-parallel-item::after {content: \"\";width: 100%;border-bottom: 1px solid gray;flex-grow: 1;}div.sk-label:hover label.sk-toggleable__label {background-color: #d4ebff;}div.sk-serial::before {content: \"\";position: absolute;border-left: 1px solid gray;box-sizing: border-box;top: 2em;bottom: 0;left: 50%;}div.sk-serial {display: flex;flex-direction: column;align-items: center;background-color: white;}div.sk-item {z-index: 1;}div.sk-parallel {display: flex;align-items: stretch;justify-content: center;background-color: white;}div.sk-parallel-item {display: flex;flex-direction: column;position: relative;background-color: white;}div.sk-parallel-item:first-child::after {align-self: flex-end;width: 50%;}div.sk-parallel-item:last-child::after {align-self: flex-start;width: 50%;}div.sk-parallel-item:only-child::after {width: 0;}div.sk-dashed-wrapped {border: 1px dashed gray;margin: 0.2em;box-sizing: border-box;padding-bottom: 0.1em;background-color: white;position: relative;}div.sk-label label {font-family: monospace;font-weight: bold;background-color: white;display: inline-block;line-height: 1.2em;}div.sk-label-container {position: relative;z-index: 2;text-align: center;}div.sk-container {display: inline-block;position: relative;}</style><div class=\"sk-top-container\"><div class=\"sk-container\"><div class=\"sk-item sk-dashed-wrapped\"><div class=\"sk-label-container\"><div class=\"sk-label sk-toggleable\"><input class=\"sk-toggleable__control sk-hidden--visually\" id=\"81b94586-e5cc-4443-8e3d-31cab5aebe62\" type=\"checkbox\" ><label class=\"sk-toggleable__label\" for=\"81b94586-e5cc-4443-8e3d-31cab5aebe62\">Pipeline</label><div class=\"sk-toggleable__content\"><pre>Pipeline(steps=[('imputer', SimpleImputer()), ('std_scaler', StandardScaler()),\n",
       "                ('knn', KNeighborsClassifier(n_neighbors=18, p=1))])</pre></div></div></div><div class=\"sk-serial\"><div class=\"sk-item\"><div class=\"sk-estimator sk-toggleable\"><input class=\"sk-toggleable__control sk-hidden--visually\" id=\"2f26159a-4f66-43de-b35c-49e3b8bc4b1a\" type=\"checkbox\" ><label class=\"sk-toggleable__label\" for=\"2f26159a-4f66-43de-b35c-49e3b8bc4b1a\">SimpleImputer</label><div class=\"sk-toggleable__content\"><pre>SimpleImputer()</pre></div></div></div><div class=\"sk-item\"><div class=\"sk-estimator sk-toggleable\"><input class=\"sk-toggleable__control sk-hidden--visually\" id=\"645a4e01-b8d8-4966-bf84-6c264ac9307b\" type=\"checkbox\" ><label class=\"sk-toggleable__label\" for=\"645a4e01-b8d8-4966-bf84-6c264ac9307b\">StandardScaler</label><div class=\"sk-toggleable__content\"><pre>StandardScaler()</pre></div></div></div><div class=\"sk-item\"><div class=\"sk-estimator sk-toggleable\"><input class=\"sk-toggleable__control sk-hidden--visually\" id=\"24a7b7d4-7919-415e-8840-6c3cc8cd0685\" type=\"checkbox\" ><label class=\"sk-toggleable__label\" for=\"24a7b7d4-7919-415e-8840-6c3cc8cd0685\">KNeighborsClassifier</label><div class=\"sk-toggleable__content\"><pre>KNeighborsClassifier(n_neighbors=18, p=1)</pre></div></div></div></div></div></div></div>"
      ],
      "text/plain": [
       "Pipeline(steps=[('imputer', SimpleImputer()), ('std_scaler', StandardScaler()),\n",
       "                ('knn', KNeighborsClassifier(n_neighbors=18, p=1))])"
      ]
     },
     "execution_count": 30,
     "metadata": {},
     "output_type": "execute_result"
    }
   ],
   "source": [
    "best_model = gs_pipe.best_estimator_\n",
    "best_model"
   ]
  },
  {
   "cell_type": "markdown",
   "id": "72c136bd",
   "metadata": {
    "slideshow": {
     "slide_type": "slide"
    }
   },
   "source": [
    "Evaluate on the test"
   ]
  },
  {
   "cell_type": "code",
   "execution_count": 31,
   "id": "ae0d29f1",
   "metadata": {
    "slideshow": {
     "slide_type": "fragment"
    }
   },
   "outputs": [],
   "source": [
    "y_pred = best_model.predict(X_test)"
   ]
  },
  {
   "cell_type": "code",
   "execution_count": 32,
   "id": "d4bf9bb2",
   "metadata": {
    "cell_style": "center",
    "slideshow": {
     "slide_type": "fragment"
    }
   },
   "outputs": [
    {
     "ename": "AttributeError",
     "evalue": "type object 'ConfusionMatrixDisplay' has no attribute 'from_estimator'",
     "output_type": "error",
     "traceback": [
      "\u001b[1;31m---------------------------------------------------------------------------\u001b[0m",
      "\u001b[1;31mAttributeError\u001b[0m                            Traceback (most recent call last)",
      "\u001b[1;32m<ipython-input-32-a110c53094da>\u001b[0m in \u001b[0;36m<module>\u001b[1;34m\u001b[0m\n\u001b[0;32m      1\u001b[0m \u001b[1;31m#plot_confusion_matrix(best_model, X_test, y_test)\u001b[0m\u001b[1;33m\u001b[0m\u001b[1;33m\u001b[0m\u001b[1;33m\u001b[0m\u001b[0m\n\u001b[1;32m----> 2\u001b[1;33m \u001b[0mConfusionMatrixDisplay\u001b[0m\u001b[1;33m.\u001b[0m\u001b[0mfrom_estimator\u001b[0m\u001b[1;33m(\u001b[0m\u001b[0mbest_model\u001b[0m\u001b[1;33m,\u001b[0m \u001b[0mX_test\u001b[0m\u001b[1;33m,\u001b[0m \u001b[0my_test\u001b[0m\u001b[1;33m)\u001b[0m\u001b[1;33m;\u001b[0m\u001b[1;33m\u001b[0m\u001b[1;33m\u001b[0m\u001b[0m\n\u001b[0m",
      "\u001b[1;31mAttributeError\u001b[0m: type object 'ConfusionMatrixDisplay' has no attribute 'from_estimator'"
     ]
    }
   ],
   "source": [
    "#plot_confusion_matrix(best_model, X_test, y_test)\n",
    "ConfusionMatrixDisplay.from_estimator(best_model, X_test, y_test);"
   ]
  },
  {
   "cell_type": "code",
   "execution_count": 33,
   "id": "11e4c2d7",
   "metadata": {
    "cell_style": "center",
    "slideshow": {
     "slide_type": "slide"
    }
   },
   "outputs": [
    {
     "name": "stdout",
     "output_type": "stream",
     "text": [
      "              precision    recall  f1-score   support\n",
      "\n",
      "           0       1.00      1.00      1.00         7\n",
      "           1       0.62      0.62      0.62         8\n",
      "           2       0.62      0.62      0.62         8\n",
      "\n",
      "    accuracy                           0.74        23\n",
      "   macro avg       0.75      0.75      0.75        23\n",
      "weighted avg       0.74      0.74      0.74        23\n",
      "\n"
     ]
    }
   ],
   "source": [
    "print(classification_report(y_test, y_pred))"
   ]
  },
  {
   "cell_type": "markdown",
   "id": "3592ca85",
   "metadata": {
    "slideshow": {
     "slide_type": "slide"
    }
   },
   "source": [
    "Can also get full report of cross validation with the pipeline estimators:\n",
    "- e.g. a dataframe with all the models"
   ]
  },
  {
   "cell_type": "code",
   "execution_count": 34,
   "id": "35ff5277",
   "metadata": {
    "scrolled": true,
    "slideshow": {
     "slide_type": "slide"
    }
   },
   "outputs": [
    {
     "data": {
      "text/html": [
       "<div>\n",
       "<style scoped>\n",
       "    .dataframe tbody tr th:only-of-type {\n",
       "        vertical-align: middle;\n",
       "    }\n",
       "\n",
       "    .dataframe tbody tr th {\n",
       "        vertical-align: top;\n",
       "    }\n",
       "\n",
       "    .dataframe thead th {\n",
       "        text-align: right;\n",
       "    }\n",
       "</style>\n",
       "<table border=\"1\" class=\"dataframe\">\n",
       "  <thead>\n",
       "    <tr style=\"text-align: right;\">\n",
       "      <th></th>\n",
       "      <th>mean_fit_time</th>\n",
       "      <th>std_fit_time</th>\n",
       "      <th>mean_score_time</th>\n",
       "      <th>std_score_time</th>\n",
       "      <th>param_imputer__strategy</th>\n",
       "      <th>param_knn__n_neighbors</th>\n",
       "      <th>param_knn__p</th>\n",
       "      <th>params</th>\n",
       "      <th>split0_test_score</th>\n",
       "      <th>split1_test_score</th>\n",
       "      <th>split2_test_score</th>\n",
       "      <th>split3_test_score</th>\n",
       "      <th>split4_test_score</th>\n",
       "      <th>mean_test_score</th>\n",
       "      <th>std_test_score</th>\n",
       "      <th>rank_test_score</th>\n",
       "    </tr>\n",
       "  </thead>\n",
       "  <tbody>\n",
       "    <tr>\n",
       "      <th>60</th>\n",
       "      <td>0.011838</td>\n",
       "      <td>0.002423</td>\n",
       "      <td>0.006509</td>\n",
       "      <td>0.000367</td>\n",
       "      <td>median</td>\n",
       "      <td>18</td>\n",
       "      <td>1</td>\n",
       "      <td>{'imputer__strategy': 'median', 'knn__n_neighb...</td>\n",
       "      <td>0.769231</td>\n",
       "      <td>0.846154</td>\n",
       "      <td>0.8</td>\n",
       "      <td>0.76</td>\n",
       "      <td>0.88</td>\n",
       "      <td>0.811077</td>\n",
       "      <td>0.045746</td>\n",
       "      <td>1</td>\n",
       "    </tr>\n",
       "    <tr>\n",
       "      <th>28</th>\n",
       "      <td>0.006810</td>\n",
       "      <td>0.000804</td>\n",
       "      <td>0.005367</td>\n",
       "      <td>0.000501</td>\n",
       "      <td>mean</td>\n",
       "      <td>18</td>\n",
       "      <td>1</td>\n",
       "      <td>{'imputer__strategy': 'mean', 'knn__n_neighbor...</td>\n",
       "      <td>0.769231</td>\n",
       "      <td>0.846154</td>\n",
       "      <td>0.8</td>\n",
       "      <td>0.76</td>\n",
       "      <td>0.88</td>\n",
       "      <td>0.811077</td>\n",
       "      <td>0.045746</td>\n",
       "      <td>1</td>\n",
       "    </tr>\n",
       "    <tr>\n",
       "      <th>61</th>\n",
       "      <td>0.011102</td>\n",
       "      <td>0.001791</td>\n",
       "      <td>0.006954</td>\n",
       "      <td>0.001304</td>\n",
       "      <td>median</td>\n",
       "      <td>18</td>\n",
       "      <td>2</td>\n",
       "      <td>{'imputer__strategy': 'median', 'knn__n_neighb...</td>\n",
       "      <td>0.769231</td>\n",
       "      <td>0.807692</td>\n",
       "      <td>0.8</td>\n",
       "      <td>0.80</td>\n",
       "      <td>0.84</td>\n",
       "      <td>0.803385</td>\n",
       "      <td>0.022577</td>\n",
       "      <td>3</td>\n",
       "    </tr>\n",
       "    <tr>\n",
       "      <th>29</th>\n",
       "      <td>0.007234</td>\n",
       "      <td>0.002157</td>\n",
       "      <td>0.005313</td>\n",
       "      <td>0.000515</td>\n",
       "      <td>mean</td>\n",
       "      <td>18</td>\n",
       "      <td>2</td>\n",
       "      <td>{'imputer__strategy': 'mean', 'knn__n_neighbor...</td>\n",
       "      <td>0.769231</td>\n",
       "      <td>0.807692</td>\n",
       "      <td>0.8</td>\n",
       "      <td>0.80</td>\n",
       "      <td>0.84</td>\n",
       "      <td>0.803385</td>\n",
       "      <td>0.022577</td>\n",
       "      <td>3</td>\n",
       "    </tr>\n",
       "    <tr>\n",
       "      <th>62</th>\n",
       "      <td>0.008593</td>\n",
       "      <td>0.001955</td>\n",
       "      <td>0.006165</td>\n",
       "      <td>0.001558</td>\n",
       "      <td>median</td>\n",
       "      <td>18</td>\n",
       "      <td>3</td>\n",
       "      <td>{'imputer__strategy': 'median', 'knn__n_neighb...</td>\n",
       "      <td>0.769231</td>\n",
       "      <td>0.769231</td>\n",
       "      <td>0.8</td>\n",
       "      <td>0.80</td>\n",
       "      <td>0.84</td>\n",
       "      <td>0.795692</td>\n",
       "      <td>0.026080</td>\n",
       "      <td>5</td>\n",
       "    </tr>\n",
       "  </tbody>\n",
       "</table>\n",
       "</div>"
      ],
      "text/plain": [
       "    mean_fit_time  std_fit_time  mean_score_time  std_score_time  \\\n",
       "60       0.011838      0.002423         0.006509        0.000367   \n",
       "28       0.006810      0.000804         0.005367        0.000501   \n",
       "61       0.011102      0.001791         0.006954        0.001304   \n",
       "29       0.007234      0.002157         0.005313        0.000515   \n",
       "62       0.008593      0.001955         0.006165        0.001558   \n",
       "\n",
       "   param_imputer__strategy param_knn__n_neighbors param_knn__p  \\\n",
       "60                  median                     18            1   \n",
       "28                    mean                     18            1   \n",
       "61                  median                     18            2   \n",
       "29                    mean                     18            2   \n",
       "62                  median                     18            3   \n",
       "\n",
       "                                               params  split0_test_score  \\\n",
       "60  {'imputer__strategy': 'median', 'knn__n_neighb...           0.769231   \n",
       "28  {'imputer__strategy': 'mean', 'knn__n_neighbor...           0.769231   \n",
       "61  {'imputer__strategy': 'median', 'knn__n_neighb...           0.769231   \n",
       "29  {'imputer__strategy': 'mean', 'knn__n_neighbor...           0.769231   \n",
       "62  {'imputer__strategy': 'median', 'knn__n_neighb...           0.769231   \n",
       "\n",
       "    split1_test_score  split2_test_score  split3_test_score  \\\n",
       "60           0.846154                0.8               0.76   \n",
       "28           0.846154                0.8               0.76   \n",
       "61           0.807692                0.8               0.80   \n",
       "29           0.807692                0.8               0.80   \n",
       "62           0.769231                0.8               0.80   \n",
       "\n",
       "    split4_test_score  mean_test_score  std_test_score  rank_test_score  \n",
       "60               0.88         0.811077        0.045746                1  \n",
       "28               0.88         0.811077        0.045746                1  \n",
       "61               0.84         0.803385        0.022577                3  \n",
       "29               0.84         0.803385        0.022577                3  \n",
       "62               0.84         0.795692        0.026080                5  "
      ]
     },
     "execution_count": 34,
     "metadata": {},
     "output_type": "execute_result"
    }
   ],
   "source": [
    "cv_result_df = pd.DataFrame(gs_pipe.cv_results_)\n",
    "cv_result_df = cv_result_df.sort_values(by = 'rank_test_score')\n",
    "cv_result_df.head()"
   ]
  },
  {
   "cell_type": "markdown",
   "id": "4adb39c0",
   "metadata": {
    "cell_style": "split",
    "slideshow": {
     "slide_type": "slide"
    }
   },
   "source": [
    "Trying different metrics:\n",
    "- Default scoring was accuracy\n",
    "- But can try other with scoring = ''"
   ]
  },
  {
   "cell_type": "markdown",
   "id": "303ad902",
   "metadata": {
    "cell_style": "split",
    "slideshow": {
     "slide_type": "fragment"
    }
   },
   "source": [
    "- Takes string:\n",
    "    - 'average_precision'\n",
    "    - 'balanced_accuracy' (class averaged recall)\n",
    "    - 'roc_auc', etc."
   ]
  },
  {
   "cell_type": "code",
   "execution_count": 35,
   "id": "05a5deb2",
   "metadata": {
    "slideshow": {
     "slide_type": "slide"
    }
   },
   "outputs": [],
   "source": [
    "pipe_grid = {'imputer__strategy': [\"mean\", \"median\"],\n",
    "             'knn__n_neighbors': [3, 5, 7, 9, 11, 13, 15, 18],\n",
    "             'knn__p': [1, 2, 3, 4]}\n",
    "\n",
    "gs_pipe = GridSearchCV(estimator=model_pipe, \n",
    "                       param_grid=pipe_grid, scoring = 'precision_micro')"
   ]
  },
  {
   "cell_type": "code",
   "execution_count": 36,
   "id": "bbb80d93",
   "metadata": {
    "slideshow": {
     "slide_type": "fragment"
    }
   },
   "outputs": [],
   "source": [
    "gs_pipe.fit(X_train, y_train);\n",
    "best_est = gs_pipe.best_estimator_"
   ]
  },
  {
   "cell_type": "code",
   "execution_count": 37,
   "id": "b0661064",
   "metadata": {
    "slideshow": {
     "slide_type": "fragment"
    }
   },
   "outputs": [
    {
     "data": {
      "text/html": [
       "<style>div.sk-top-container {color: black;background-color: white;}div.sk-toggleable {background-color: white;}label.sk-toggleable__label {cursor: pointer;display: block;width: 100%;margin-bottom: 0;padding: 0.2em 0.3em;box-sizing: border-box;text-align: center;}div.sk-toggleable__content {max-height: 0;max-width: 0;overflow: hidden;text-align: left;background-color: #f0f8ff;}div.sk-toggleable__content pre {margin: 0.2em;color: black;border-radius: 0.25em;background-color: #f0f8ff;}input.sk-toggleable__control:checked~div.sk-toggleable__content {max-height: 200px;max-width: 100%;overflow: auto;}div.sk-estimator input.sk-toggleable__control:checked~label.sk-toggleable__label {background-color: #d4ebff;}div.sk-label input.sk-toggleable__control:checked~label.sk-toggleable__label {background-color: #d4ebff;}input.sk-hidden--visually {border: 0;clip: rect(1px 1px 1px 1px);clip: rect(1px, 1px, 1px, 1px);height: 1px;margin: -1px;overflow: hidden;padding: 0;position: absolute;width: 1px;}div.sk-estimator {font-family: monospace;background-color: #f0f8ff;margin: 0.25em 0.25em;border: 1px dotted black;border-radius: 0.25em;box-sizing: border-box;}div.sk-estimator:hover {background-color: #d4ebff;}div.sk-parallel-item::after {content: \"\";width: 100%;border-bottom: 1px solid gray;flex-grow: 1;}div.sk-label:hover label.sk-toggleable__label {background-color: #d4ebff;}div.sk-serial::before {content: \"\";position: absolute;border-left: 1px solid gray;box-sizing: border-box;top: 2em;bottom: 0;left: 50%;}div.sk-serial {display: flex;flex-direction: column;align-items: center;background-color: white;}div.sk-item {z-index: 1;}div.sk-parallel {display: flex;align-items: stretch;justify-content: center;background-color: white;}div.sk-parallel-item {display: flex;flex-direction: column;position: relative;background-color: white;}div.sk-parallel-item:first-child::after {align-self: flex-end;width: 50%;}div.sk-parallel-item:last-child::after {align-self: flex-start;width: 50%;}div.sk-parallel-item:only-child::after {width: 0;}div.sk-dashed-wrapped {border: 1px dashed gray;margin: 0.2em;box-sizing: border-box;padding-bottom: 0.1em;background-color: white;position: relative;}div.sk-label label {font-family: monospace;font-weight: bold;background-color: white;display: inline-block;line-height: 1.2em;}div.sk-label-container {position: relative;z-index: 2;text-align: center;}div.sk-container {display: inline-block;position: relative;}</style><div class=\"sk-top-container\"><div class=\"sk-container\"><div class=\"sk-item sk-dashed-wrapped\"><div class=\"sk-label-container\"><div class=\"sk-label sk-toggleable\"><input class=\"sk-toggleable__control sk-hidden--visually\" id=\"38b02e53-5ab7-4568-98a1-00c75789d330\" type=\"checkbox\" ><label class=\"sk-toggleable__label\" for=\"38b02e53-5ab7-4568-98a1-00c75789d330\">Pipeline</label><div class=\"sk-toggleable__content\"><pre>Pipeline(steps=[('imputer', SimpleImputer()), ('std_scaler', StandardScaler()),\n",
       "                ('knn', KNeighborsClassifier(n_neighbors=18, p=1))])</pre></div></div></div><div class=\"sk-serial\"><div class=\"sk-item\"><div class=\"sk-estimator sk-toggleable\"><input class=\"sk-toggleable__control sk-hidden--visually\" id=\"9450b2d4-0a0d-45e2-915c-b7906d43de8a\" type=\"checkbox\" ><label class=\"sk-toggleable__label\" for=\"9450b2d4-0a0d-45e2-915c-b7906d43de8a\">SimpleImputer</label><div class=\"sk-toggleable__content\"><pre>SimpleImputer()</pre></div></div></div><div class=\"sk-item\"><div class=\"sk-estimator sk-toggleable\"><input class=\"sk-toggleable__control sk-hidden--visually\" id=\"706f7914-d67f-433a-b444-7c71056aa10e\" type=\"checkbox\" ><label class=\"sk-toggleable__label\" for=\"706f7914-d67f-433a-b444-7c71056aa10e\">StandardScaler</label><div class=\"sk-toggleable__content\"><pre>StandardScaler()</pre></div></div></div><div class=\"sk-item\"><div class=\"sk-estimator sk-toggleable\"><input class=\"sk-toggleable__control sk-hidden--visually\" id=\"c90aa4be-4bcf-4fce-8612-b4b09b439c53\" type=\"checkbox\" ><label class=\"sk-toggleable__label\" for=\"c90aa4be-4bcf-4fce-8612-b4b09b439c53\">KNeighborsClassifier</label><div class=\"sk-toggleable__content\"><pre>KNeighborsClassifier(n_neighbors=18, p=1)</pre></div></div></div></div></div></div></div>"
      ],
      "text/plain": [
       "Pipeline(steps=[('imputer', SimpleImputer()), ('std_scaler', StandardScaler()),\n",
       "                ('knn', KNeighborsClassifier(n_neighbors=18, p=1))])"
      ]
     },
     "execution_count": 37,
     "metadata": {},
     "output_type": "execute_result"
    }
   ],
   "source": [
    "best_est"
   ]
  },
  {
   "cell_type": "markdown",
   "id": "5e57ad78",
   "metadata": {
    "slideshow": {
     "slide_type": "slide"
    }
   },
   "source": [
    "Obviously not enough search parameters: still gets same model\n",
    "- Also probably limited by intrinsic overlap in the data.\n",
    "- Will see another example of trying different metrics."
   ]
  },
  {
   "cell_type": "markdown",
   "id": "cd517f86",
   "metadata": {
    "slideshow": {
     "slide_type": "slide"
    }
   },
   "source": [
    "#### In this case:\n",
    "- Not many NaNs\n",
    "- Selected subset of data didn't require multiple types of transformers\n",
    "    - e.g. categorical vs. numeric columns\n",
    "    - ordinal vs. nominal categoricals\n",
    "    - feature engineering on column subsets (Polynomial, etc.)\n"
   ]
  },
  {
   "cell_type": "markdown",
   "id": "ede18c22",
   "metadata": {
    "slideshow": {
     "slide_type": "slide"
    }
   },
   "source": [
    "#### Column Transformers"
   ]
  },
  {
   "cell_type": "markdown",
   "id": "6a1f1e5d",
   "metadata": {
    "slideshow": {
     "slide_type": "fragment"
    }
   },
   "source": [
    "First step in:\n",
    "- dealing with systematically imputing data in pipelines\n",
    "- transforming features of various types in different ways"
   ]
  },
  {
   "cell_type": "code",
   "execution_count": null,
   "id": "f0a4eb32",
   "metadata": {
    "cell_style": "center",
    "slideshow": {
     "slide_type": "slide"
    }
   },
   "outputs": [],
   "source": [
    "salary_df = pd.read_csv('Data/adult.csv', usecols = ['age', 'occupation', 'education', 'native.country', \n",
    "                                                     'hours.per.week', 'sex', 'income'])\n",
    "salary_df = salary_df[salary_df[\"native.country\"] == \"United-States\"]\n",
    "ed_list = ['10th','11th','HS-grad', 'Some-college', 'Assoc-acdm', 'Assoc-voc', 'Bachelors', 'Masters', 'Doctorate']\n",
    "salary_df = salary_df[salary_df['education'].isin(ed_list)].drop(columns = ['native.country'])"
   ]
  },
  {
   "cell_type": "markdown",
   "id": "e4f375f2",
   "metadata": {
    "slideshow": {
     "slide_type": "slide"
    }
   },
   "source": [
    "Salary prediction problem:\n",
    "- Predict whether someone makes >50K anually\n",
    "- Numeric and categorical features require different preparation\n",
    "- NaN imputation strategies specific to columns\n",
    "\n",
    "Let's learn how to implement all this in the Pipeline"
   ]
  },
  {
   "cell_type": "code",
   "execution_count": null,
   "id": "2bf244ae",
   "metadata": {
    "cell_style": "split",
    "slideshow": {
     "slide_type": "slide"
    }
   },
   "outputs": [],
   "source": [
    "salary_df.head()"
   ]
  },
  {
   "cell_type": "code",
   "execution_count": null,
   "id": "ec2922a7",
   "metadata": {
    "cell_style": "split",
    "slideshow": {
     "slide_type": "fragment"
    }
   },
   "outputs": [],
   "source": [
    "salary_df.info()"
   ]
  },
  {
   "cell_type": "markdown",
   "id": "2a4d736d",
   "metadata": {
    "cell_style": "center",
    "slideshow": {
     "slide_type": "slide"
    }
   },
   "source": [
    "Nulls clearly encoded as '?'\n",
    "- Would do EDA before figuring out how to clean/preprocess columns\n",
    "- But lets go ahead and develop pipeline!"
   ]
  },
  {
   "cell_type": "markdown",
   "id": "0a3b655c",
   "metadata": {
    "cell_style": "split",
    "slideshow": {
     "slide_type": "fragment"
    }
   },
   "source": [
    "**Imputation**\n",
    "- Numeric: impute with mean\n",
    "- Education/occupation/sex: most common"
   ]
  },
  {
   "cell_type": "markdown",
   "id": "d9dc45c5",
   "metadata": {
    "cell_style": "split",
    "slideshow": {
     "slide_type": "fragment"
    }
   },
   "source": [
    "**Encoding**\n",
    "- Education: ordinal encoding\n",
    "- Occupation/Sex: one-hot encoding"
   ]
  },
  {
   "cell_type": "markdown",
   "id": "a74ebf59",
   "metadata": {
    "slideshow": {
     "slide_type": "fragment"
    }
   },
   "source": [
    "Then standardize and model."
   ]
  },
  {
   "cell_type": "code",
   "execution_count": null,
   "id": "75c1f169",
   "metadata": {
    "slideshow": {
     "slide_type": "slide"
    }
   },
   "outputs": [],
   "source": [
    "salary_df['education'].value_counts()"
   ]
  },
  {
   "cell_type": "code",
   "execution_count": null,
   "id": "1a4ce94c",
   "metadata": {
    "cell_style": "split",
    "scrolled": true,
    "slideshow": {
     "slide_type": "slide"
    }
   },
   "outputs": [],
   "source": [
    "# replace with NaNs\n",
    "salary_df = salary_df.replace({'?':np.nan})\n",
    "salary_df.head(3)"
   ]
  },
  {
   "cell_type": "code",
   "execution_count": null,
   "id": "2bf8217e",
   "metadata": {
    "cell_style": "split",
    "slideshow": {
     "slide_type": "fragment"
    }
   },
   "outputs": [],
   "source": [
    "salary_df.info()"
   ]
  },
  {
   "cell_type": "code",
   "execution_count": null,
   "id": "6c7984f4",
   "metadata": {
    "cell_style": "center",
    "slideshow": {
     "slide_type": "slide"
    }
   },
   "outputs": [],
   "source": [
    "from sklearn.preprocessing import LabelEncoder"
   ]
  },
  {
   "cell_type": "code",
   "execution_count": null,
   "id": "06d71cae",
   "metadata": {
    "cell_style": "split",
    "slideshow": {
     "slide_type": "fragment"
    }
   },
   "outputs": [],
   "source": [
    "X_income = salary_df.drop(columns = [\"income\"])\n",
    "y_income = salary_df['income']"
   ]
  },
  {
   "cell_type": "code",
   "execution_count": null,
   "id": "8c7b8737",
   "metadata": {
    "cell_style": "split",
    "slideshow": {
     "slide_type": "fragment"
    }
   },
   "outputs": [],
   "source": [
    "lab_enc = LabelEncoder()\n",
    "y_income = lab_enc.fit_transform(y_income)"
   ]
  },
  {
   "cell_type": "markdown",
   "id": "6c0da2a1",
   "metadata": {
    "slideshow": {
     "slide_type": "slide"
    }
   },
   "source": [
    "#### Before doing anything else"
   ]
  },
  {
   "cell_type": "code",
   "execution_count": null,
   "id": "124f6847",
   "metadata": {
    "slideshow": {
     "slide_type": "fragment"
    }
   },
   "outputs": [],
   "source": [
    "X_inc_train, X_inc_test, y_inc_train, y_inc_test = train_test_split(X_income, y_income, test_size = 0.15)"
   ]
  },
  {
   "cell_type": "code",
   "execution_count": null,
   "id": "259decca",
   "metadata": {
    "scrolled": true,
    "slideshow": {
     "slide_type": "fragment"
    }
   },
   "outputs": [],
   "source": [
    "from sklearn.pipeline import Pipeline\n",
    "from sklearn.impute import SimpleImputer\n",
    "from sklearn.preprocessing import LabelEncoder\n",
    "from sklearn.preprocessing import OrdinalEncoder\n",
    "from sklearn.preprocessing import OneHotEncoder\n",
    "from sklearn.preprocessing import StandardScaler\n",
    "from sklearn.preprocessing import MaxAbsScaler\n",
    "from sklearn.compose import ColumnTransformer"
   ]
  },
  {
   "cell_type": "markdown",
   "id": "6b9c68f6",
   "metadata": {
    "cell_style": "split",
    "slideshow": {
     "slide_type": "slide"
    }
   },
   "source": [
    "Create three separate transformation pipelines:\n",
    "- Ordinal Categorical\n",
    "- Nominal Categorical\n",
    "- Numeric "
   ]
  },
  {
   "cell_type": "code",
   "execution_count": null,
   "id": "0eebc0ed",
   "metadata": {
    "cell_style": "split",
    "slideshow": {
     "slide_type": "fragment"
    }
   },
   "outputs": [],
   "source": [
    "X_income.head()"
   ]
  },
  {
   "cell_type": "markdown",
   "id": "dda9d03d",
   "metadata": {
    "cell_style": "split",
    "slideshow": {
     "slide_type": "fragment"
    }
   },
   "source": [
    "What do we want to use for each column?"
   ]
  },
  {
   "cell_type": "markdown",
   "id": "056ac8a6",
   "metadata": {
    "slideshow": {
     "slide_type": "slide"
    }
   },
   "source": [
    "## First define the separate pipelines"
   ]
  },
  {
   "cell_type": "code",
   "execution_count": null,
   "id": "21280d37",
   "metadata": {
    "slideshow": {
     "slide_type": "fragment"
    }
   },
   "outputs": [],
   "source": [
    "numeric_pipeline = Pipeline([('numimputer', SimpleImputer(strategy = 'mean')), ('numnorm', StandardScaler())])\n",
    "\n",
    "ordinal_pipeline = Pipeline([\n",
    "    ('ordimputer', SimpleImputer(strategy = 'most_frequent')),\n",
    "    ('ordenc', OrdinalEncoder(categories = [ed_list])),\n",
    "    ('ordnorm', StandardScaler())])\n",
    "\n",
    "nominal_pipeline = Pipeline([\n",
    "    ('onehotimputer', SimpleImputer(strategy = 'most_frequent')),\n",
    "    ('onehotenc', OneHotEncoder(sparse = False, drop = 'first', handle_unknown = 'ignore')), \n",
    "    ('onehotnorm', MaxAbsScaler())])\n",
    "\n",
    "ed_list"
   ]
  },
  {
   "cell_type": "markdown",
   "id": "af1c2ae3",
   "metadata": {
    "slideshow": {
     "slide_type": "slide"
    }
   },
   "source": [
    "Now unite them with ColumnTransformer:\n",
    "- specify columns each pipeline acts on."
   ]
  },
  {
   "cell_type": "code",
   "execution_count": null,
   "id": "1f081d24",
   "metadata": {
    "slideshow": {
     "slide_type": "fragment"
    }
   },
   "outputs": [],
   "source": [
    "num_cols = X_inc_train.select_dtypes(['int', 'float']).columns\n",
    "\n",
    "ct = ColumnTransformer(\n",
    "    [(\"ordinalpipe\", ordinal_pipeline, ['education']), \n",
    "     (\"nominalpipe\", nominal_pipeline, ['occupation','sex']),\n",
    "     (\"numpipe\", numeric_pipeline, num_cols)])\n",
    "\n",
    "num_cols"
   ]
  },
  {
   "cell_type": "markdown",
   "id": "12ae0a03",
   "metadata": {
    "slideshow": {
     "slide_type": "slide"
    }
   },
   "source": [
    "Viewing the transformed data:\n",
    "- In order specified by column transformer"
   ]
  },
  {
   "cell_type": "code",
   "execution_count": null,
   "id": "3d58fc08",
   "metadata": {
    "cell_style": "center",
    "slideshow": {
     "slide_type": "fragment"
    }
   },
   "outputs": [],
   "source": [
    "pd.DataFrame(ct.fit_transform(X_inc_train)).head()"
   ]
  },
  {
   "cell_type": "markdown",
   "id": "75312c35",
   "metadata": {
    "slideshow": {
     "slide_type": "slide"
    }
   },
   "source": [
    "Let's view what our preprocessing pipeline does:"
   ]
  },
  {
   "cell_type": "code",
   "execution_count": null,
   "id": "94462cda",
   "metadata": {
    "cell_style": "center",
    "slideshow": {
     "slide_type": "fragment"
    }
   },
   "outputs": [],
   "source": [
    "ct"
   ]
  },
  {
   "cell_type": "markdown",
   "id": "fe587f09",
   "metadata": {
    "cell_style": "center",
    "slideshow": {
     "slide_type": "slide"
    }
   },
   "source": [
    "Takes specified columns:\n",
    "- Applies ordinal pipeline to first set\n",
    "- Nominal pipeline to second subset\n",
    "- Numeric pipeline to last set\n",
    "\n",
    "Joins result *in column transform order* at the end."
   ]
  },
  {
   "cell_type": "markdown",
   "id": "7a5d92f1",
   "metadata": {
    "cell_style": "center",
    "slideshow": {
     "slide_type": "slide"
    }
   },
   "source": [
    "Column transformer: access/change individual steps in branches\n",
    "- .named_transformers_ attribute as dictionary of transformers"
   ]
  },
  {
   "cell_type": "code",
   "execution_count": null,
   "id": "717900e9",
   "metadata": {
    "cell_style": "center",
    "slideshow": {
     "slide_type": "fragment"
    }
   },
   "outputs": [],
   "source": [
    "ct.named_transformers_"
   ]
  },
  {
   "cell_type": "code",
   "execution_count": null,
   "id": "b4fa49be",
   "metadata": {
    "cell_style": "split",
    "slideshow": {
     "slide_type": "slide"
    }
   },
   "outputs": [],
   "source": [
    "ct.named_transformers_['ordinalpipe']"
   ]
  },
  {
   "cell_type": "code",
   "execution_count": null,
   "id": "1cf8e8b7",
   "metadata": {
    "cell_style": "split",
    "slideshow": {
     "slide_type": "fragment"
    }
   },
   "outputs": [],
   "source": [
    "ct.named_transformers_['nominalpipe']"
   ]
  },
  {
   "cell_type": "code",
   "execution_count": null,
   "id": "4b68fa35",
   "metadata": {
    "cell_style": "split",
    "slideshow": {
     "slide_type": "slide"
    }
   },
   "outputs": [],
   "source": [
    "ct.named_transformers_['nominalpipe'].steps.pop(-1)\n"
   ]
  },
  {
   "cell_type": "code",
   "execution_count": null,
   "id": "a36a7a57",
   "metadata": {
    "cell_style": "split",
    "slideshow": {
     "slide_type": "fragment"
    }
   },
   "outputs": [],
   "source": [
    "ct.named_transformers_['nominalpipe'].steps.append(\n",
    "    ('onehotnorm', StandardScaler()))"
   ]
  },
  {
   "cell_type": "code",
   "execution_count": null,
   "id": "60fb7de6",
   "metadata": {
    "cell_style": "center",
    "slideshow": {
     "slide_type": "slide"
    }
   },
   "outputs": [],
   "source": [
    "ct.named_transformers_"
   ]
  },
  {
   "cell_type": "code",
   "execution_count": null,
   "id": "942ed4b0",
   "metadata": {
    "slideshow": {
     "slide_type": "fragment"
    }
   },
   "outputs": [],
   "source": [
    "ct"
   ]
  },
  {
   "cell_type": "markdown",
   "id": "172d0455",
   "metadata": {
    "cell_style": "split",
    "slideshow": {
     "slide_type": "slide"
    }
   },
   "source": [
    "Swapped out MaxAbScaler with StandardScaler in nominalpipe:\n",
    "\n",
    "At this point: \n",
    "- append modeling step\n",
    "- build final pipeline: transformers + model\n",
    "- tuck into gridCV for tuning."
   ]
  },
  {
   "cell_type": "code",
   "execution_count": null,
   "id": "0b0ba1d0",
   "metadata": {
    "cell_style": "split",
    "slideshow": {
     "slide_type": "fragment"
    }
   },
   "outputs": [],
   "source": [
    "final_pipe = Pipeline([('preprocess', ct),\n",
    "                      ('model',\n",
    "                       KNeighborsClassifier())])\n",
    "final_pipe"
   ]
  },
  {
   "cell_type": "markdown",
   "id": "1dac0e7c",
   "metadata": {
    "slideshow": {
     "slide_type": "slide"
    }
   },
   "source": [
    "Fit the full transformer and model pipeline."
   ]
  },
  {
   "cell_type": "code",
   "execution_count": null,
   "id": "8b1470a7",
   "metadata": {
    "slideshow": {
     "slide_type": "fragment"
    }
   },
   "outputs": [],
   "source": [
    "final_pipe.fit(X_inc_train, y_inc_train)"
   ]
  },
  {
   "cell_type": "code",
   "execution_count": null,
   "id": "005c9e29",
   "metadata": {
    "scrolled": true,
    "slideshow": {
     "slide_type": "slide"
    }
   },
   "outputs": [],
   "source": [
    "y_pred = final_pipe.predict(X_inc_test)"
   ]
  },
  {
   "cell_type": "code",
   "execution_count": null,
   "id": "38436858",
   "metadata": {
    "cell_style": "center",
    "slideshow": {
     "slide_type": "fragment"
    }
   },
   "outputs": [],
   "source": [
    "#plot_confusion_matrix(final_pipe, X_inc_test,y_inc_test)\n",
    "ConfusionMatrixDisplay.from_estimator(final_pipe, X_inc_test,y_inc_test);"
   ]
  },
  {
   "cell_type": "markdown",
   "id": "588648c9",
   "metadata": {
    "cell_style": "split",
    "slideshow": {
     "slide_type": "fragment"
    }
   },
   "source": [
    "Probably needs some tuning. Let's look at the steps of final_pipe."
   ]
  },
  {
   "cell_type": "code",
   "execution_count": null,
   "id": "da737372",
   "metadata": {
    "cell_style": "center",
    "slideshow": {
     "slide_type": "slide"
    }
   },
   "outputs": [],
   "source": [
    "print(final_pipe.steps)"
   ]
  },
  {
   "cell_type": "code",
   "execution_count": null,
   "id": "5ef65610",
   "metadata": {
    "slideshow": {
     "slide_type": "slide"
    }
   },
   "outputs": [],
   "source": [
    "# going down each level in estimator with double underscore (level1__level2__estimator__argument)\n",
    "final_pipe_grid = {'preprocess__numpipe__numimputer__strategy': [\"mean\", \"median\"],\n",
    "             'model__n_neighbors': [3, 11, 15],\n",
    "             'model__p': [1, 2]}\n",
    "\n",
    "gs_full_pipe = GridSearchCV(estimator=final_pipe, \n",
    "                       param_grid=final_pipe_grid)"
   ]
  },
  {
   "cell_type": "code",
   "execution_count": null,
   "id": "87c60c5b",
   "metadata": {
    "cell_style": "center",
    "scrolled": true,
    "slideshow": {
     "slide_type": "fragment"
    }
   },
   "outputs": [],
   "source": [
    "gs_full_pipe.fit(X_inc_train,y_inc_train)"
   ]
  },
  {
   "cell_type": "code",
   "execution_count": null,
   "id": "097445f5",
   "metadata": {
    "cell_style": "split",
    "slideshow": {
     "slide_type": "fragment"
    }
   },
   "outputs": [],
   "source": [
    "gs_full_pipe.best_score_"
   ]
  },
  {
   "cell_type": "code",
   "execution_count": null,
   "id": "a702944b",
   "metadata": {
    "cell_style": "split",
    "slideshow": {
     "slide_type": "fragment"
    }
   },
   "outputs": [],
   "source": [
    "gs_full_pipe.best_params_"
   ]
  },
  {
   "cell_type": "code",
   "execution_count": null,
   "id": "298ad64a",
   "metadata": {
    "cell_style": "center",
    "slideshow": {
     "slide_type": "slide"
    }
   },
   "outputs": [],
   "source": [
    "best_model = gs_full_pipe.best_estimator_\n",
    "y_pred = best_model.predict(X_inc_test)\n",
    "#plot_confusion_matrix(best_model,X_inc_test,y_inc_test)\n",
    "ConfusionMatrixDisplay.from_estimator(best_model,X_inc_test,y_inc_test);"
   ]
  },
  {
   "cell_type": "markdown",
   "id": "53d3c807",
   "metadata": {
    "slideshow": {
     "slide_type": "slide"
    }
   },
   "source": [
    "Try a different scoring metric due to class imbalance"
   ]
  },
  {
   "cell_type": "code",
   "execution_count": null,
   "id": "e22f8ba4",
   "metadata": {
    "slideshow": {
     "slide_type": "fragment"
    }
   },
   "outputs": [],
   "source": [
    "# going down each level in estimator with double underscore (level1__level2__estimator__argument)\n",
    "final_pipe_grid = {'preprocess__numpipe__numimputer__strategy': [\"mean\", \"median\"],\n",
    "             'model__n_neighbors': [3, 11, 15],\n",
    "             'model__p': [1, 2]}\n",
    "\n",
    "gs_full_pipe2 = GridSearchCV(estimator=final_pipe, \n",
    "                       param_grid=final_pipe_grid, scoring = 'roc_auc')"
   ]
  },
  {
   "cell_type": "code",
   "execution_count": null,
   "id": "889ed968",
   "metadata": {
    "slideshow": {
     "slide_type": "slide"
    }
   },
   "outputs": [],
   "source": [
    "gs_full_pipe2.fit(X_inc_train, y_inc_train)\n",
    "best_model2 = gs_full_pipe2.best_estimator_\n",
    "#plot_confusion_matrix(best_model2, X_inc_test,y_inc_test)\n",
    "ConfusionMatrixDisplay.from_estimator(best_model2, X_inc_test,y_inc_test);"
   ]
  },
  {
   "cell_type": "markdown",
   "id": "db6967f8",
   "metadata": {
    "slideshow": {
     "slide_type": "slide"
    }
   },
   "source": [
    "Scoring made a difference, but not that much. In some case will make a *huge* difference.\n",
    "\n",
    "Probably would do much better with a better classifier and a better tuning range:\n",
    "- But now you see how to address hyperparameters inside column transformers\n",
    "- At any level of the full pipeline\n",
    "- Change metrics you are tuning on"
   ]
  },
  {
   "cell_type": "markdown",
   "id": "ac26ce79",
   "metadata": {
    "slideshow": {
     "slide_type": "slide"
    }
   },
   "source": [
    "#### Feature Union"
   ]
  },
  {
   "cell_type": "markdown",
   "id": "34ddbfcf",
   "metadata": {
    "cell_style": "split",
    "slideshow": {
     "slide_type": "slide"
    }
   },
   "source": [
    "Given a subset of features:\n",
    "- Want to transform feature subset in multiple ways (in parallel)\n",
    "- Keep all of these transformed subsets as features\n",
    "- **Feature Union** of multiple transformers"
   ]
  },
  {
   "cell_type": "markdown",
   "id": "d6839815",
   "metadata": {
    "cell_style": "split",
    "slideshow": {
     "slide_type": "fragment"
    }
   },
   "source": [
    "- E.g. PolynomialFeatures\n",
    "- Function transformer (transform features according to function)"
   ]
  },
  {
   "cell_type": "code",
   "execution_count": null,
   "id": "755ea694",
   "metadata": {
    "slideshow": {
     "slide_type": "slide"
    }
   },
   "outputs": [],
   "source": [
    "from scipy.stats import norm\n",
    "X = np.linspace(-1.7*np.pi, 1.5*np.pi, 100)\n",
    "np.random.shuffle(X)\n",
    "epsilon = norm.rvs(loc = 0, scale = 3.5, size = 100)\n",
    "y = 5*np.sin(2*X) - 3*np.cos(X) + 2*X + .3*X**2 + epsilon\n",
    "data_df = pd.DataFrame()\n",
    "data_df['X'] = X\n",
    "data_df['y'] = y"
   ]
  },
  {
   "cell_type": "code",
   "execution_count": null,
   "id": "a7af5435",
   "metadata": {
    "cell_style": "split",
    "slideshow": {
     "slide_type": "slide"
    }
   },
   "outputs": [],
   "source": [
    "data_df"
   ]
  },
  {
   "cell_type": "code",
   "execution_count": null,
   "id": "f00cb403",
   "metadata": {
    "cell_style": "split",
    "slideshow": {
     "slide_type": "fragment"
    }
   },
   "outputs": [],
   "source": [
    "sns.scatterplot(x = 'X', y = 'y', data = \n",
    "                data_df)\n",
    "plt.show()"
   ]
  },
  {
   "cell_type": "code",
   "execution_count": null,
   "id": "7aabad37",
   "metadata": {
    "cell_style": "center",
    "slideshow": {
     "slide_type": "fragment"
    }
   },
   "outputs": [],
   "source": [
    "X_reshape = data_df['X'].values.reshape(-1,1)\n",
    "y = data_df['y']"
   ]
  },
  {
   "cell_type": "code",
   "execution_count": null,
   "id": "f8a4e2ab",
   "metadata": {
    "slideshow": {
     "slide_type": "fragment"
    }
   },
   "outputs": [],
   "source": [
    "X_train, X_test, y_train, y_test = train_test_split(X_reshape, y, test_size = 0.2)"
   ]
  },
  {
   "cell_type": "code",
   "execution_count": null,
   "id": "5af57cb2",
   "metadata": {
    "slideshow": {
     "slide_type": "slide"
    }
   },
   "outputs": [],
   "source": [
    "from sklearn.preprocessing import PolynomialFeatures\n",
    "from sklearn.preprocessing import FunctionTransformer\n",
    "from sklearn.pipeline import FeatureUnion\n",
    "from sklearn.linear_model import Ridge\n",
    "from sklearn.metrics import mean_absolute_error"
   ]
  },
  {
   "cell_type": "markdown",
   "id": "880fbd28",
   "metadata": {
    "slideshow": {
     "slide_type": "fragment"
    }
   },
   "source": [
    "Let's also define two custom functions:"
   ]
  },
  {
   "cell_type": "code",
   "execution_count": null,
   "id": "f8d68d6b",
   "metadata": {
    "cell_style": "split",
    "slideshow": {
     "slide_type": "fragment"
    }
   },
   "outputs": [],
   "source": [
    "def sinefunc(x, c = 1):\n",
    "    return np.sin(c*x)"
   ]
  },
  {
   "cell_type": "code",
   "execution_count": null,
   "id": "41e5d738",
   "metadata": {
    "cell_style": "split",
    "slideshow": {
     "slide_type": "fragment"
    }
   },
   "outputs": [],
   "source": [
    "def cosfunc(x, d = 1):\n",
    "    return np.cos(d*x)"
   ]
  },
  {
   "cell_type": "code",
   "execution_count": null,
   "id": "8ecbe537",
   "metadata": {
    "cell_style": "center",
    "slideshow": {
     "slide_type": "slide"
    }
   },
   "outputs": [],
   "source": [
    "transformer_list = [('poly', PolynomialFeatures(include_bias = False)), \n",
    "                     ('sine', FunctionTransformer(sinefunc)), \n",
    "                     ('cosine', FunctionTransformer(cosfunc))\n",
    "                   ]\n",
    "\n",
    "# takes in input features, applies transformers in parallel to inputs, concatenates:\n",
    "feat_union = FeatureUnion(transformer_list) "
   ]
  },
  {
   "cell_type": "code",
   "execution_count": null,
   "id": "f4278f84",
   "metadata": {
    "cell_style": "center",
    "slideshow": {
     "slide_type": "fragment"
    }
   },
   "outputs": [],
   "source": [
    "steps = [('feateng', feat_union), ('scaler', StandardScaler())]\n",
    "preprocess_pipe = Pipeline(steps)\n",
    "preprocess_pipe"
   ]
  },
  {
   "cell_type": "code",
   "execution_count": null,
   "id": "c32bfbe3",
   "metadata": {
    "cell_style": "center",
    "slideshow": {
     "slide_type": "slide"
    }
   },
   "outputs": [],
   "source": [
    "X_proc = preprocess_pipe.fit_transform(X_train)\n",
    "X_proc[0:5]"
   ]
  },
  {
   "cell_type": "markdown",
   "id": "069e132c",
   "metadata": {
    "cell_style": "split",
    "slideshow": {
     "slide_type": "fragment"
    }
   },
   "source": [
    "First column is linear in X, second quadratic in X, then the sin and cosine terms.\n",
    "\n",
    "- Check if all standard scaled:"
   ]
  },
  {
   "cell_type": "code",
   "execution_count": null,
   "id": "260429a6",
   "metadata": {
    "cell_style": "split",
    "slideshow": {
     "slide_type": "fragment"
    }
   },
   "outputs": [],
   "source": [
    "print(X_proc.mean(axis = 0))"
   ]
  },
  {
   "cell_type": "code",
   "execution_count": null,
   "id": "0a03a636",
   "metadata": {
    "cell_style": "split",
    "slideshow": {
     "slide_type": "fragment"
    }
   },
   "outputs": [],
   "source": [
    "print(X_proc.std(axis = 0))"
   ]
  },
  {
   "cell_type": "markdown",
   "id": "4e9eb2aa",
   "metadata": {
    "slideshow": {
     "slide_type": "slide"
    }
   },
   "source": [
    "Finish pipeline and hyperparameter tune:"
   ]
  },
  {
   "cell_type": "code",
   "execution_count": null,
   "id": "0a8e3508",
   "metadata": {
    "slideshow": {
     "slide_type": "fragment"
    }
   },
   "outputs": [],
   "source": [
    "steps = [('preprocess', preprocess_pipe), ('ridge', Ridge())]\n",
    "regress_pipe = Pipeline(steps)\n",
    "params = {'preprocess__feateng__poly__degree': [1, 2, 3, 4], \n",
    "          'preprocess__feateng__sine__kw_args': [{'c': 1},{'c': 2},{'c': 3}],\n",
    "          'ridge__alpha': [1e-3, .01, .1, 1, 10, 100]}\n",
    "cv = GridSearchCV(estimator = regress_pipe, param_grid = params, cv = 6)\n",
    "cv.fit(X_train, y_train)\n",
    "best_model = cv.best_estimator_"
   ]
  },
  {
   "cell_type": "code",
   "execution_count": null,
   "id": "a92cbf3c",
   "metadata": {
    "cell_style": "center",
    "slideshow": {
     "slide_type": "slide"
    }
   },
   "outputs": [],
   "source": [
    "best_model.steps"
   ]
  },
  {
   "cell_type": "code",
   "execution_count": null,
   "id": "ebb5871b",
   "metadata": {
    "cell_style": "split",
    "slideshow": {
     "slide_type": "fragment"
    }
   },
   "outputs": [],
   "source": [
    "cv.best_score_"
   ]
  },
  {
   "cell_type": "code",
   "execution_count": null,
   "id": "10f614cb",
   "metadata": {
    "cell_style": "split",
    "slideshow": {
     "slide_type": "fragment"
    }
   },
   "outputs": [],
   "source": [
    "cv.best_params_"
   ]
  },
  {
   "cell_type": "code",
   "execution_count": null,
   "id": "5beacb43",
   "metadata": {
    "slideshow": {
     "slide_type": "slide"
    }
   },
   "outputs": [],
   "source": [
    "pd.DataFrame(cv.cv_results_)"
   ]
  },
  {
   "cell_type": "code",
   "execution_count": null,
   "id": "da436bbb",
   "metadata": {
    "slideshow": {
     "slide_type": "slide"
    }
   },
   "outputs": [],
   "source": [
    "best_model.fit(X_train, y_train)\n",
    "y_predictions = best_model.predict(data_df['X'].values.reshape(-1,1))"
   ]
  },
  {
   "cell_type": "code",
   "execution_count": null,
   "id": "5944718d",
   "metadata": {
    "cell_style": "split",
    "scrolled": true,
    "slideshow": {
     "slide_type": "fragment"
    }
   },
   "outputs": [],
   "source": [
    "fig, ax = plt.subplots()\n",
    "ax.scatter(X, y_predictions, label = 'fit')\n",
    "ax.scatter(X, y, label = 'data')\n",
    "ax.legend()\n",
    "plt.show()"
   ]
  },
  {
   "cell_type": "code",
   "execution_count": null,
   "id": "e339fc7b",
   "metadata": {
    "cell_style": "split",
    "slideshow": {
     "slide_type": "fragment"
    }
   },
   "outputs": [],
   "source": [
    "y_pred = best_model.predict(X_test)"
   ]
  },
  {
   "cell_type": "code",
   "execution_count": null,
   "id": "37eed449",
   "metadata": {
    "cell_style": "split",
    "slideshow": {
     "slide_type": "fragment"
    }
   },
   "outputs": [],
   "source": [
    "mean_absolute_error(y_pred, y_test)"
   ]
  },
  {
   "cell_type": "markdown",
   "id": "32ccfeb3",
   "metadata": {
    "cell_style": "split",
    "slideshow": {
     "slide_type": "fragment"
    }
   },
   "source": [
    "Can use Pipelines, FeatureUnions, FunctionTransformers:\n",
    "- to systematically search basis function spaces\n",
    "- Get best fits based off series of functions\n",
    "- Best function selection"
   ]
  },
  {
   "cell_type": "markdown",
   "id": "07fc11ce",
   "metadata": {
    "cell_style": "split",
    "slideshow": {
     "slide_type": "fragment"
    }
   },
   "source": [
    "**Obviously very powerful**"
   ]
  },
  {
   "cell_type": "markdown",
   "id": "5dd978de",
   "metadata": {
    "slideshow": {
     "slide_type": "slide"
    }
   },
   "source": [
    "Combining FeatureUnion with ColumnTransformer:\n",
    "- Apply function finding/feature engineering of different kinds to different columns\n",
    "- Input transformed features into various types of predictive models (with regularization/hyperparameter tuning)\n",
    "\n",
    "**Now can start to build very powerful/flexible models**"
   ]
  },
  {
   "cell_type": "markdown",
   "id": "53a9ba25",
   "metadata": {
    "cell_style": "split",
    "slideshow": {
     "slide_type": "slide"
    }
   },
   "source": [
    "Kind of like building legos. \n",
    "- Maybe you want some extra pieces\n",
    "- Model/Transformer extensions\n",
    "- Treat models like transformers in FeatureUnion (parallel modeling)\n",
    "- Get an expansion pack!\n"
   ]
  },
  {
   "cell_type": "markdown",
   "id": "2d6e3626",
   "metadata": {
    "cell_style": "split",
    "slideshow": {
     "slide_type": "fragment"
    }
   },
   "source": [
    "May be worth exploring **sklego**:\n",
    "<center><img src = \"Images/sklego.png\" width = 300 /></center>\n",
    "\n",
    "<center>https://scikit-lego.netlify.app/</center>"
   ]
  },
  {
   "cell_type": "markdown",
   "id": "0228738b",
   "metadata": {
    "slideshow": {
     "slide_type": "slide"
    }
   },
   "source": [
    "#### Optimizing tuning strategies"
   ]
  },
  {
   "cell_type": "markdown",
   "id": "dde538fc",
   "metadata": {
    "cell_style": "center",
    "slideshow": {
     "slide_type": "slide"
    }
   },
   "source": [
    "As models/pipelines get complex:\n",
    "- Lots of hyperparameters to play around with\n",
    "- GridSearch not the best **initial** strategy:\n",
    "    - Takes forever\n",
    "    - Want to sample space more effectively."
   ]
  },
  {
   "cell_type": "markdown",
   "id": "e5c9ca48",
   "metadata": {
    "slideshow": {
     "slide_type": "slide"
    }
   },
   "source": [
    "Randomized Search CV"
   ]
  },
  {
   "cell_type": "markdown",
   "id": "919444f0",
   "metadata": {
    "slideshow": {
     "slide_type": "fragment"
    }
   },
   "source": [
    "<img src = \"Images/grid_vs_randomcv.png\" />\n",
    "\n",
    "<center>Often smaller number of random hyperparamter samples better than grid search.</center>"
   ]
  },
  {
   "cell_type": "code",
   "execution_count": null,
   "id": "95794f65",
   "metadata": {
    "cell_style": "center",
    "slideshow": {
     "slide_type": "slide"
    }
   },
   "outputs": [],
   "source": [
    "from sklearn.model_selection import RandomizedSearchCV"
   ]
  },
  {
   "cell_type": "markdown",
   "id": "d9b82f55",
   "metadata": {
    "cell_style": "split",
    "slideshow": {
     "slide_type": "fragment"
    }
   },
   "source": [
    "Basically same syntax as GridSearchCV:\n",
    "- param_distributions: \n",
    "    - can take dict of hyperparameters with value list: uniformly samples\n",
    "    - can take dict of hyperparameters with specified distributions.\n",
    "- n_iter is # of samples to take."
   ]
  },
  {
   "cell_type": "code",
   "execution_count": null,
   "id": "8b90e01d",
   "metadata": {
    "cell_style": "split",
    "slideshow": {
     "slide_type": "fragment"
    }
   },
   "outputs": [],
   "source": [
    "# will uniformly random sample this grid.\n",
    "params"
   ]
  },
  {
   "cell_type": "code",
   "execution_count": null,
   "id": "d560fbae",
   "metadata": {
    "cell_style": "center",
    "slideshow": {
     "slide_type": "slide"
    }
   },
   "outputs": [],
   "source": [
    "random_cv = RandomizedSearchCV(estimator = regress_pipe, \n",
    "                               param_distributions = params, \n",
    "                               n_iter = 10, \n",
    "                               cv = 6, \n",
    "                               random_state =42)\n",
    "random_cv.fit(X_train, y_train);"
   ]
  },
  {
   "cell_type": "code",
   "execution_count": null,
   "id": "7b8537e1",
   "metadata": {
    "cell_style": "center",
    "slideshow": {
     "slide_type": "fragment"
    }
   },
   "outputs": [],
   "source": [
    "randomcv_results = pd.DataFrame(random_cv.cv_results_)\n",
    "randomcv_results.head()"
   ]
  },
  {
   "cell_type": "code",
   "execution_count": null,
   "id": "b3ab5118",
   "metadata": {
    "cell_style": "split",
    "slideshow": {
     "slide_type": "slide"
    }
   },
   "outputs": [],
   "source": [
    "best_random = random_cv.best_estimator_\n",
    "best_random"
   ]
  },
  {
   "cell_type": "code",
   "execution_count": null,
   "id": "eac9daf0",
   "metadata": {
    "cell_style": "split",
    "slideshow": {
     "slide_type": "fragment"
    }
   },
   "outputs": [],
   "source": [
    "random_cv.best_score_"
   ]
  },
  {
   "cell_type": "markdown",
   "id": "190aaf41",
   "metadata": {
    "slideshow": {
     "slide_type": "slide"
    }
   },
   "source": [
    "Then after promising RandomSearchCV():\n",
    "- GridSearchCV (possibly):\n",
    "    - select best hyperparameter from random search.\n",
    "    - fine step grid search tuning around this point."
   ]
  },
  {
   "cell_type": "markdown",
   "id": "1a177b5c",
   "metadata": {
    "slideshow": {
     "slide_type": "slide"
    }
   },
   "source": [
    "This is just the beginning of hyperperparameter tuning strategies:\n",
    "- Principled Bayesian approaches exist, etc.\n",
    "- That being said, RandomSearchCV used well is **very** effective"
   ]
  },
  {
   "cell_type": "markdown",
   "id": "7db52eda",
   "metadata": {
    "slideshow": {
     "slide_type": "slide"
    }
   },
   "source": [
    "# Level Up: SMOTE"
   ]
  },
  {
   "cell_type": "markdown",
   "id": "4604bae1",
   "metadata": {
    "slideshow": {
     "slide_type": "fragment"
    }
   },
   "source": [
    "Often we encounter a problem of imbalance classification that there are too few observations of the minority class for a model to effectively learn the decision boundary. \n",
    "\n",
    "One way to solve this problem is to **oversample** the observations in the minority class (or alternatively **undersample** the observations in the majority class) by synthesizing new observation from the minority class.\n",
    "\n",
    "The most widely used approach to synthesizing new observations is called the **Synthetic Minority Oversampling Technique**, or **SMOTE** for short. \n",
    "\n",
    "Resource: https://arxiv.org/abs/1106.1813\n",
    "\n",
    "Before getting into the example, please note the following,\n",
    "\n",
    "1. Oversampling process is based on **k-nearest neighbors** of the minority class.\n",
    "2. Oversampling only works with **numerical predictors** since the synthetic observations are created based on the k-nearest neighbors algorithm, which is a distance based algorithm.  \n",
    "\n",
    "We use the Scikit-Learn's breast cancer dataset to demonstrate the use of SMOTE from imblearn package."
   ]
  },
  {
   "cell_type": "code",
   "execution_count": null,
   "id": "d5168856",
   "metadata": {
    "slideshow": {
     "slide_type": "slide"
    }
   },
   "outputs": [],
   "source": [
    "from sklearn.datasets import load_breast_cancer\n",
    "\n",
    "# Load the data\n",
    "preds, target = load_breast_cancer(return_X_y=True)\n",
    "\n",
    "# Split into train and test\n",
    "X_train, X_test, y_train, y_test = train_test_split(preds, target,\n",
    "                                                   random_state=42)\n",
    "\n",
    "# Scale the data\n",
    "bc_scaler = StandardScaler()\n",
    "bc_scaler.fit(X_train)\n",
    "X_train_sc = bc_scaler.transform(X_train)\n",
    "X_test_sc = bc_scaler.transform(X_test)"
   ]
  },
  {
   "cell_type": "code",
   "execution_count": null,
   "id": "fcd2d8e2",
   "metadata": {
    "slideshow": {
     "slide_type": "slide"
    }
   },
   "outputs": [],
   "source": [
    "# Import imblearn dependencies\n",
    "from imblearn.over_sampling import SMOTE\n",
    "from imblearn.under_sampling import RandomUnderSampler\n",
    "from imblearn.pipeline import Pipeline as imbPipeline\n",
    "from collections import Counter\n",
    "from matplotlib import pyplot\n",
    "from numpy import where"
   ]
  },
  {
   "cell_type": "markdown",
   "id": "efa5e534",
   "metadata": {
    "slideshow": {
     "slide_type": "slide"
    }
   },
   "source": [
    "Note that we have an imbalance class for the target variable in this dataset."
   ]
  },
  {
   "cell_type": "code",
   "execution_count": null,
   "id": "4a320994",
   "metadata": {
    "slideshow": {
     "slide_type": "fragment"
    }
   },
   "outputs": [],
   "source": [
    "# Check the class distribution of the target\n",
    "counter = Counter(y_train)\n",
    "print(counter)\n",
    "\n",
    "# scatter plot of examples by class label\n",
    "for label, _ in counter.items():\n",
    "    row_ix = where(y_train == label)[0]\n",
    "    pyplot.scatter(X_train_sc[row_ix, 0], X_train_sc[row_ix, 1], label=str(label))\n",
    "pyplot.legend()\n",
    "pyplot.show()"
   ]
  },
  {
   "cell_type": "code",
   "execution_count": null,
   "id": "8ecd55b5",
   "metadata": {
    "slideshow": {
     "slide_type": "slide"
    }
   },
   "outputs": [],
   "source": [
    "# Create the oversampler and undersampler objects\n",
    "over = SMOTE(sampling_strategy=0.7)\n",
    "under = RandomUnderSampler(sampling_strategy=0.8)\n",
    "\n",
    "# transform the dataset\n",
    "X, y = under.fit_resample(X_train_sc, y_train)"
   ]
  },
  {
   "cell_type": "markdown",
   "id": "0df36da6",
   "metadata": {
    "slideshow": {
     "slide_type": "fragment"
    }
   },
   "source": [
    "After the oversampling and undersampling process, we observe a more balance class distribution in the target variable."
   ]
  },
  {
   "cell_type": "code",
   "execution_count": null,
   "id": "7520be98",
   "metadata": {
    "slideshow": {
     "slide_type": "slide"
    }
   },
   "outputs": [],
   "source": [
    "# Check the class distribution of the target\n",
    "counter = Counter(y)\n",
    "print(counter)\n",
    "\n",
    "# scatter plot of examples by class label\n",
    "for label, _ in counter.items():\n",
    "    row_ix = where(y == label)[0]\n",
    "    pyplot.scatter(X_train_sc[row_ix, 0], X_train_sc[row_ix, 1], label=str(label))\n",
    "pyplot.legend()\n",
    "pyplot.show()"
   ]
  },
  {
   "cell_type": "code",
   "execution_count": null,
   "id": "218c0bd9",
   "metadata": {
    "slideshow": {
     "slide_type": "slide"
    }
   },
   "outputs": [],
   "source": [
    "# Create imblearn pipeline for the oversampler and undersampler\n",
    "steps = [('o', over), ('u', under), ('model', DecisionTreeClassifier())]\n",
    "pipeline = imbPipeline(steps=steps)\n",
    "\n",
    "\n",
    "# Create the GridSearchCV object with different hyperparameters\n",
    "parameters = {\n",
    "    'model__max_depth': [2, 4, 6, 8],\n",
    "    'model__min_samples_split': [5, 10, 15],\n",
    "    'model__criterion': ['gini', 'entropy']\n",
    "}\n",
    "\n",
    "cv = GridSearchCV(pipeline, param_grid=parameters)\n",
    "\n",
    "cv.fit(X_train_sc, y_train)\n",
    "\n",
    "# Predict the label with the best model\n",
    "y_pred = cv.predict(X_test_sc)\n",
    "print(y_pred)"
   ]
  },
  {
   "cell_type": "code",
   "execution_count": null,
   "id": "6bf065b3",
   "metadata": {},
   "outputs": [],
   "source": []
  }
 ],
 "metadata": {
  "hide_input": false,
  "kernelspec": {
   "display_name": "Python (learn-env)",
   "language": "python",
   "name": "learn-env"
  },
  "language_info": {
   "codemirror_mode": {
    "name": "ipython",
    "version": 3
   },
   "file_extension": ".py",
   "mimetype": "text/x-python",
   "name": "python",
   "nbconvert_exporter": "python",
   "pygments_lexer": "ipython3",
   "version": "3.8.5"
  },
  "latex_envs": {
   "LaTeX_envs_menu_present": true,
   "autoclose": false,
   "autocomplete": true,
   "bibliofile": "biblio.bib",
   "cite_by": "apalike",
   "current_citInitial": 1,
   "eqLabelWithNumbers": true,
   "eqNumInitial": 1,
   "hotkeys": {
    "equation": "Ctrl-E",
    "itemize": "Ctrl-I"
   },
   "labels_anchors": false,
   "latex_user_defs": false,
   "report_style_numbering": false,
   "user_envs_cfg": false
  },
  "nbTranslate": {
   "displayLangs": [
    "*"
   ],
   "hotkey": "alt-t",
   "langInMainMenu": true,
   "sourceLang": "en",
   "targetLang": "fr",
   "useGoogleTranslate": true
  },
  "toc": {
   "base_numbering": 1,
   "nav_menu": {},
   "number_sections": true,
   "sideBar": true,
   "skip_h1_title": false,
   "title_cell": "Table of Contents",
   "title_sidebar": "TOC",
   "toc_cell": true,
   "toc_position": {
    "height": "calc(100% - 180px)",
    "left": "10px",
    "top": "150px",
    "width": "232px"
   },
   "toc_section_display": true,
   "toc_window_display": false
  }
 },
 "nbformat": 4,
 "nbformat_minor": 5
}
